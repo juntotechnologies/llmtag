{
 "cells": [
  {
   "cell_type": "code",
   "execution_count": null,
   "id": "43fa8279-018f-4015-beb1-5f8519631d9c",
   "metadata": {},
   "outputs": [],
   "source": [
    "\n",
    "!pip install scikit-learn\n",
    "!pip install seaborn\n"
   ]
  },
  {
   "cell_type": "code",
   "execution_count": 12,
   "id": "55a19502-62ac-46c8-b718-42b5b909f94f",
   "metadata": {},
   "outputs": [],
   "source": [
    "import pandas as pd\n",
    "import random\n",
    "\n",
    "# Define the path for the CSV file\n",
    "csv_path = 'simulation_dataset.csv'"
   ]
  },
  {
   "cell_type": "code",
   "execution_count": 13,
   "id": "6501d028-5bff-4ec4-a13f-5d805682821a",
   "metadata": {},
   "outputs": [],
   "source": [
    "# Define possible text fragments related to VTE\n",
    "positive_fragments = [\n",
    "    \"Thrombus present\",\n",
    "    \"Deep venous thrombosis present\",\n",
    "    \"Few new pulmonary emboli\",\n",
    "    \"Segmental and subsegmental pulmonary artery branches\",\n",
    "    \"Central saddle pulmonary embolus\",\n",
    "    \"Right-sided heart strain\",\n",
    "    \"Right ventricular to left ventricular ratio is 0.8\"\n",
    "]\n",
    "\n",
    "# Define possible text fragments not related to VTE\n",
    "negative_fragments = [\n",
    "    \"No thrombus\",\n",
    "    \"Decreased left pulmonary artery emboli\",\n",
    "    \"The remaining lung parenchyma is unchanged\",\n",
    "    \"No right-sided heart strain\",\n",
    "    \"No central saddle pulmonary embolus\"\n",
    "]\n",
    "\n",
    "# Initialize empty lists to hold notes and labels\n",
    "notes = []\n",
    "labels = []\n",
    "\n"
   ]
  },
  {
   "cell_type": "code",
   "execution_count": 14,
   "id": "651a84e4-38bc-4a56-af63-7e2f30b85509",
   "metadata": {},
   "outputs": [],
   "source": [
    "# Generate 50 rows\n",
    "for _ in range(50):\n",
    "    note_fragments = []\n",
    "    label = 0  # Assume negative by default\n",
    "\n",
    "    # Randomly select fragments to form a note\n",
    "    while True:\n",
    "        fragment = random.choice(positive_fragments + negative_fragments)\n",
    "        if len(\", \".join(note_fragments) + fragment) + len(\"FINDINGS: \") < 100:\n",
    "            note_fragments.append(fragment)\n",
    "            if fragment in positive_fragments:\n",
    "                label = 1\n",
    "        else:\n",
    "            break\n",
    "\n",
    "    # Create the note\n",
    "    note = \"FINDINGS: \" + \", \".join(note_fragments)\n",
    "\n",
    "    # Append the generated note and label to lists\n",
    "    notes.append(note)\n",
    "    labels.append(label)\n",
    "\n"
   ]
  },
  {
   "cell_type": "code",
   "execution_count": 15,
   "id": "2ffa956c-92d7-441e-9bcc-c88b1817f799",
   "metadata": {},
   "outputs": [],
   "source": [
    "# Create a DataFrame\n",
    "df = pd.DataFrame({\n",
    "    'Notes': notes,\n",
    "    'VTE_Label': labels\n",
    "})\n",
    "\n"
   ]
  },
  {
   "cell_type": "code",
   "execution_count": 3,
   "id": "19320542-c9ab-4fa7-9f64-b81d4df9d151",
   "metadata": {},
   "outputs": [
    {
     "ename": "NameError",
     "evalue": "name 'df' is not defined",
     "output_type": "error",
     "traceback": [
      "\u001b[0;31m---------------------------------------------------------------------------\u001b[0m",
      "\u001b[0;31mNameError\u001b[0m                                 Traceback (most recent call last)",
      "Cell \u001b[0;32mIn[3], line 1\u001b[0m\n\u001b[0;32m----> 1\u001b[0m \u001b[43mdf\u001b[49m\n",
      "\u001b[0;31mNameError\u001b[0m: name 'df' is not defined"
     ]
    }
   ],
   "source": [
    "# Write the DataFrame to a CSV file\n",
    "# df.to_csv(csv_path, index=False)"
   ]
  },
  {
   "cell_type": "code",
   "execution_count": 16,
   "id": "547c90eb-4f69-492d-b0ca-70b09b506759",
   "metadata": {},
   "outputs": [
    {
     "data": {
      "text/plain": [
       "array(['FINDINGS: Right-sided heart strain, Segmental and subsegmental pulmonary artery branches, No thrombus',\n",
       "       'FINDINGS: Right-sided heart strain, Few new pulmonary emboli, No central saddle pulmonary embolus',\n",
       "       'FINDINGS: Right-sided heart strain, No central saddle pulmonary embolus, Thrombus present',\n",
       "       'FINDINGS: Deep venous thrombosis present, Few new pulmonary emboli',\n",
       "       'FINDINGS: No right-sided heart strain, Deep venous thrombosis present',\n",
       "       'FINDINGS: Deep venous thrombosis present, Right-sided heart strain',\n",
       "       'FINDINGS: No central saddle pulmonary embolus, Right-sided heart strain',\n",
       "       'FINDINGS: The remaining lung parenchyma is unchanged, Few new pulmonary emboli',\n",
       "       'FINDINGS: Segmental and subsegmental pulmonary artery branches, No right-sided heart strain',\n",
       "       'FINDINGS: Right-sided heart strain, Right ventricular to left ventricular ratio is 0.8',\n",
       "       'FINDINGS: Segmental and subsegmental pulmonary artery branches',\n",
       "       'FINDINGS: Central saddle pulmonary embolus, Thrombus present, No right-sided heart strain',\n",
       "       'FINDINGS: The remaining lung parenchyma is unchanged, Decreased left pulmonary artery emboli',\n",
       "       'FINDINGS: Right ventricular to left ventricular ratio is 0.8',\n",
       "       'FINDINGS: The remaining lung parenchyma is unchanged, No thrombus, Central saddle pulmonary embolus',\n",
       "       'FINDINGS: No thrombus, Right-sided heart strain, The remaining lung parenchyma is unchanged',\n",
       "       'FINDINGS: Thrombus present, Deep venous thrombosis present, Deep venous thrombosis present',\n",
       "       'FINDINGS: Right-sided heart strain, Decreased left pulmonary artery emboli',\n",
       "       'FINDINGS: No central saddle pulmonary embolus, No central saddle pulmonary embolus',\n",
       "       'FINDINGS: Right ventricular to left ventricular ratio is 0.8',\n",
       "       'FINDINGS: No thrombus, Segmental and subsegmental pulmonary artery branches',\n",
       "       'FINDINGS: Central saddle pulmonary embolus, No right-sided heart strain',\n",
       "       'FINDINGS: The remaining lung parenchyma is unchanged, The remaining lung parenchyma is unchanged',\n",
       "       'FINDINGS: No right-sided heart strain, The remaining lung parenchyma is unchanged',\n",
       "       'FINDINGS: Segmental and subsegmental pulmonary artery branches, No thrombus',\n",
       "       'FINDINGS: No right-sided heart strain, Central saddle pulmonary embolus',\n",
       "       'FINDINGS: Thrombus present, Few new pulmonary emboli, The remaining lung parenchyma is unchanged',\n",
       "       'FINDINGS: Thrombus present, No central saddle pulmonary embolus',\n",
       "       'FINDINGS: Right-sided heart strain, No central saddle pulmonary embolus, No thrombus',\n",
       "       'FINDINGS: Thrombus present, Right-sided heart strain',\n",
       "       'FINDINGS: No thrombus, No central saddle pulmonary embolus, No central saddle pulmonary embolus',\n",
       "       'FINDINGS: Few new pulmonary emboli, Central saddle pulmonary embolus, Right-sided heart strain',\n",
       "       'FINDINGS: No right-sided heart strain, Central saddle pulmonary embolus, Right-sided heart strain',\n",
       "       'FINDINGS: The remaining lung parenchyma is unchanged, Deep venous thrombosis present',\n",
       "       'FINDINGS: Few new pulmonary emboli, No right-sided heart strain, Central saddle pulmonary embolus',\n",
       "       'FINDINGS: Thrombus present, No thrombus, Thrombus present, No central saddle pulmonary embolus',\n",
       "       'FINDINGS: No right-sided heart strain, Segmental and subsegmental pulmonary artery branches',\n",
       "       'FINDINGS: Right ventricular to left ventricular ratio is 0.8, Thrombus present',\n",
       "       'FINDINGS: Right ventricular to left ventricular ratio is 0.8, No thrombus',\n",
       "       'FINDINGS: No right-sided heart strain, The remaining lung parenchyma is unchanged',\n",
       "       'FINDINGS: Deep venous thrombosis present, Decreased left pulmonary artery emboli',\n",
       "       'FINDINGS: Few new pulmonary emboli, Few new pulmonary emboli, Central saddle pulmonary embolus',\n",
       "       'FINDINGS: No thrombus, Few new pulmonary emboli, Right ventricular to left ventricular ratio is 0.8',\n",
       "       'FINDINGS: Decreased left pulmonary artery emboli',\n",
       "       'FINDINGS: Deep venous thrombosis present, The remaining lung parenchyma is unchanged',\n",
       "       'FINDINGS: Right ventricular to left ventricular ratio is 0.8',\n",
       "       'FINDINGS: Central saddle pulmonary embolus, Thrombus present, Central saddle pulmonary embolus',\n",
       "       'FINDINGS: No right-sided heart strain, Few new pulmonary emboli',\n",
       "       'FINDINGS: No thrombus, No central saddle pulmonary embolus, Right-sided heart strain',\n",
       "       'FINDINGS: No thrombus, Deep venous thrombosis present, The remaining lung parenchyma is unchanged'],\n",
       "      dtype=object)"
      ]
     },
     "execution_count": 16,
     "metadata": {},
     "output_type": "execute_result"
    }
   ],
   "source": [
    "df.Notes.values"
   ]
  },
  {
   "cell_type": "code",
   "execution_count": 1,
   "id": "eb3b3fd8-1b94-455f-a2c1-a45e387da07c",
   "metadata": {},
   "outputs": [
    {
     "data": {
      "text/html": [
       "<div>\n",
       "<style scoped>\n",
       "    .dataframe tbody tr th:only-of-type {\n",
       "        vertical-align: middle;\n",
       "    }\n",
       "\n",
       "    .dataframe tbody tr th {\n",
       "        vertical-align: top;\n",
       "    }\n",
       "\n",
       "    .dataframe thead th {\n",
       "        text-align: right;\n",
       "    }\n",
       "</style>\n",
       "<table border=\"1\" class=\"dataframe\">\n",
       "  <thead>\n",
       "    <tr style=\"text-align: right;\">\n",
       "      <th></th>\n",
       "      <th>patient_id</th>\n",
       "      <th>notes</th>\n",
       "      <th>label</th>\n",
       "      <th>llm_label</th>\n",
       "      <th>llm_reasons</th>\n",
       "    </tr>\n",
       "  </thead>\n",
       "  <tbody>\n",
       "    <tr>\n",
       "      <th>0</th>\n",
       "      <td>1</td>\n",
       "      <td>Patient complains of leg pain and swelling. Ul...</td>\n",
       "      <td>1.0</td>\n",
       "      <td>1</td>\n",
       "      <td>Ultrasound confirms DVT</td>\n",
       "    </tr>\n",
       "    <tr>\n",
       "      <th>1</th>\n",
       "      <td>2</td>\n",
       "      <td>Patient experiences chest pain and shortness o...</td>\n",
       "      <td>1.0</td>\n",
       "      <td>1</td>\n",
       "      <td>CT scan confirms PE</td>\n",
       "    </tr>\n",
       "    <tr>\n",
       "      <th>2</th>\n",
       "      <td>3</td>\n",
       "      <td>Patient has a history of DVT. No current sympt...</td>\n",
       "      <td>0.0</td>\n",
       "      <td>0</td>\n",
       "      <td>No Symptoms found</td>\n",
       "    </tr>\n",
       "    <tr>\n",
       "      <th>3</th>\n",
       "      <td>4</td>\n",
       "      <td>No complaints or symptoms related to VTE or PE.</td>\n",
       "      <td>0.0</td>\n",
       "      <td>0</td>\n",
       "      <td>No evidence of VTE or PE</td>\n",
       "    </tr>\n",
       "    <tr>\n",
       "      <th>4</th>\n",
       "      <td>6</td>\n",
       "      <td>Leg swelling and pain present. Ultrasound conf...</td>\n",
       "      <td>1.0</td>\n",
       "      <td>1</td>\n",
       "      <td>Ultrasound confirms DVT</td>\n",
       "    </tr>\n",
       "  </tbody>\n",
       "</table>\n",
       "</div>"
      ],
      "text/plain": [
       "   patient_id                                              notes  label  \\\n",
       "0           1  Patient complains of leg pain and swelling. Ul...    1.0   \n",
       "1           2  Patient experiences chest pain and shortness o...    1.0   \n",
       "2           3  Patient has a history of DVT. No current sympt...    0.0   \n",
       "3           4    No complaints or symptoms related to VTE or PE.    0.0   \n",
       "4           6  Leg swelling and pain present. Ultrasound conf...    1.0   \n",
       "\n",
       "   llm_label               llm_reasons  \n",
       "0          1   Ultrasound confirms DVT  \n",
       "1          1       CT scan confirms PE  \n",
       "2          0         No Symptoms found  \n",
       "3          0  No evidence of VTE or PE  \n",
       "4          1   Ultrasound confirms DVT  "
      ]
     },
     "execution_count": 1,
     "metadata": {},
     "output_type": "execute_result"
    }
   ],
   "source": [
    "import pandas as pd\n",
    "\n",
    "# Define the file path\n",
    "file_path = \"/Users/porwals/Documents/GitHub/python_packages/llmtag/tests/benchmark_data/out.csv\"\n",
    "\n",
    "# Read the CSV file into a DataFrame\n",
    "df = pd.read_csv(file_path)\n",
    "\n",
    "# Display the first few rows of the DataFrame to verify the data has been loaded\n",
    "df.head()\n"
   ]
  },
  {
   "cell_type": "code",
   "execution_count": 8,
   "id": "b4bc56cc-e38c-40e9-9bd6-061270663cb1",
   "metadata": {},
   "outputs": [
    {
     "data": {
      "image/png": "[encoded data removed]",
      "text/plain": [
       "<Figure size 1000x700 with 2 Axes>"
      ]
     },
     "metadata": {},
     "output_type": "display_data"
    }
   ],
   "source": [
    "import pandas as pd\n",
    "from sklearn.metrics import confusion_matrix\n",
    "import seaborn as sns\n",
    "import matplotlib.pyplot as plt\n",
    "\n",
    "# Load the data from the local file\n",
    "file_path = \"/Users/porwals/Documents/GitHub/python_packages/llmtag/tests/benchmark_data/out.csv\"\n",
    "df = pd.read_csv(file_path)\n",
    "\n",
    "# Drop rows with NaN values in the 'label' or 'llm_label' columns\n",
    "df = df.dropna(subset=['label', 'llm_label'])\n",
    "\n",
    "# Extract the true labels and predicted labels\n",
    "true_labels = df['label'].values\n",
    "predicted_labels = df['llm_label'].values\n",
    "\n",
    "# Compute the confusion matrix\n",
    "matrix = confusion_matrix(true_labels, predicted_labels)\n",
    "\n",
    "# Plotting the confusion matrix using Seaborn\n",
    "plt.figure(figsize=(10,7))\n",
    "sns.heatmap(matrix, annot=True, fmt='d', cmap='Blues')\n",
    "plt.xlabel('Predicted Label')\n",
    "plt.ylabel('True Label')\n",
    "plt.title('Confusion Matrix')\n",
    "plt.show()\n"
   ]
  },
  {
   "cell_type": "code",
   "execution_count": 10,
   "id": "615111ea-2d31-44fe-9e05-af32a276e0d2",
   "metadata": {},
   "outputs": [
    {
     "name": "stdout",
     "output_type": "stream",
     "text": [
      "F1 Score: 0.9756\n",
      "Precision: 0.9524\n",
      "Recall: 1.0000\n",
      "Accuracy: 0.9792\n"
     ]
    },
    {
     "data": {
      "image/png": "[encoded data removed]",
      "text/plain": [
       "<Figure size 1000x700 with 2 Axes>"
      ]
     },
     "metadata": {},
     "output_type": "display_data"
    }
   ],
   "source": [
    "from sklearn.metrics import f1_score, precision_score, recall_score, accuracy_score\n",
    "\n",
    "# Load the data from the local file\n",
    "file_path = \"/Users/porwals/Documents/GitHub/python_packages/llmtag/tests/benchmark_data/out.csv\"\n",
    "df = pd.read_csv(file_path)\n",
    "\n",
    "# Drop rows with NaN values in the 'label' or 'llm_label' columns\n",
    "df = df.dropna(subset=['label', 'llm_label'])\n",
    "\n",
    "# Extract the true labels and predicted labels\n",
    "true_labels = df['label'].values\n",
    "predicted_labels = df['llm_label'].values\n",
    "\n",
    "# Compute the confusion matrix\n",
    "matrix = confusion_matrix(true_labels, predicted_labels)\n",
    "\n",
    "# Compute metrics\n",
    "f1 = f1_score(true_labels, predicted_labels)\n",
    "precision = precision_score(true_labels, predicted_labels)\n",
    "recall = recall_score(true_labels, predicted_labels)\n",
    "accuracy = accuracy_score(true_labels, predicted_labels)\n",
    "\n",
    "# Display metrics\n",
    "print(f\"F1 Score: {f1:.4f}\")\n",
    "print(f\"Precision: {precision:.4f}\")\n",
    "print(f\"Recall: {recall:.4f}\")\n",
    "print(f\"Accuracy: {accuracy:.4f}\")\n",
    "\n",
    "# Plotting the confusion matrix using Seaborn\n",
    "plt.figure(figsize=(10,7))\n",
    "sns.heatmap(matrix, annot=True, fmt='d', cmap='Blues')\n",
    "plt.xlabel('Predicted Label')\n",
    "plt.ylabel('True Label')\n",
    "plt.title('Confusion Matrix')\n",
    "plt.show()\n"
   ]
  },
  {
   "cell_type": "code",
   "execution_count": null,
   "id": "7289af4c-5f05-42c2-9cfd-07956edb0e60",
   "metadata": {},
   "outputs": [],
   "source": []
  }
 ],
 "metadata": {
  "kernelspec": {
   "display_name": "Python 3 (ipykernel)",
   "language": "python",
   "name": "python3"
  },
  "language_info": {
   "codemirror_mode": {
    "name": "ipython",
    "version": 3
   },
   "file_extension": ".py",
   "mimetype": "text/x-python",
   "name": "python",
   "nbconvert_exporter": "python",
   "pygments_lexer": "ipython3",
   "version": "3.11.1"
  }
 },
 "nbformat": 4,
 "nbformat_minor": 5
}
