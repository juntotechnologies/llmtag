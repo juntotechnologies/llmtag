{
 "cells": [
  {
   "cell_type": "code",
   "execution_count": 12,
   "id": "55a19502-62ac-46c8-b718-42b5b909f94f",
   "metadata": {},
   "outputs": [],
   "source": [
    "import pandas as pd\n",
    "import random\n",
    "\n",
    "# Define the path for the CSV file\n",
    "csv_path = 'simulation_dataset.csv'"
   ]
  },
  {
   "cell_type": "code",
   "execution_count": 13,
   "id": "6501d028-5bff-4ec4-a13f-5d805682821a",
   "metadata": {},
   "outputs": [],
   "source": [
    "# Define possible text fragments related to VTE\n",
    "positive_fragments = [\n",
    "    \"Thrombus present\",\n",
    "    \"Deep venous thrombosis present\",\n",
    "    \"Few new pulmonary emboli\",\n",
    "    \"Segmental and subsegmental pulmonary artery branches\",\n",
    "    \"Central saddle pulmonary embolus\",\n",
    "    \"Right-sided heart strain\",\n",
    "    \"Right ventricular to left ventricular ratio is 0.8\"\n",
    "]\n",
    "\n",
    "# Define possible text fragments not related to VTE\n",
    "negative_fragments = [\n",
    "    \"No thrombus\",\n",
    "    \"Decreased left pulmonary artery emboli\",\n",
    "    \"The remaining lung parenchyma is unchanged\",\n",
    "    \"No right-sided heart strain\",\n",
    "    \"No central saddle pulmonary embolus\"\n",
    "]\n",
    "\n",
    "# Initialize empty lists to hold notes and labels\n",
    "notes = []\n",
    "labels = []\n",
    "\n"
   ]
  },
  {
   "cell_type": "code",
   "execution_count": 14,
   "id": "651a84e4-38bc-4a56-af63-7e2f30b85509",
   "metadata": {},
   "outputs": [],
   "source": [
    "# Generate 50 rows\n",
    "for _ in range(50):\n",
    "    note_fragments = []\n",
    "    label = 0  # Assume negative by default\n",
    "\n",
    "    # Randomly select fragments to form a note\n",
    "    while True:\n",
    "        fragment = random.choice(positive_fragments + negative_fragments)\n",
    "        if len(\", \".join(note_fragments) + fragment) + len(\"FINDINGS: \") < 100:\n",
    "            note_fragments.append(fragment)\n",
    "            if fragment in positive_fragments:\n",
    "                label = 1\n",
    "        else:\n",
    "            break\n",
    "\n",
    "    # Create the note\n",
    "    note = \"FINDINGS: \" + \", \".join(note_fragments)\n",
    "\n",
    "    # Append the generated note and label to lists\n",
    "    notes.append(note)\n",
    "    labels.append(label)\n",
    "\n"
   ]
  },
  {
   "cell_type": "code",
   "execution_count": 15,
   "id": "2ffa956c-92d7-441e-9bcc-c88b1817f799",
   "metadata": {},
   "outputs": [],
   "source": [
    "# Create a DataFrame\n",
    "df = pd.DataFrame({\n",
    "    'Notes': notes,\n",
    "    'VTE_Label': labels\n",
    "})\n",
    "\n"
   ]
  },
  {
   "cell_type": "code",
   "execution_count": 3,
   "id": "19320542-c9ab-4fa7-9f64-b81d4df9d151",
   "metadata": {},
   "outputs": [
    {
     "ename": "NameError",
     "evalue": "name 'df' is not defined",
     "output_type": "error",
     "traceback": [
      "\u001b[0;31m---------------------------------------------------------------------------\u001b[0m",
      "\u001b[0;31mNameError\u001b[0m                                 Traceback (most recent call last)",
      "Cell \u001b[0;32mIn[3], line 1\u001b[0m\n\u001b[0;32m----> 1\u001b[0m \u001b[43mdf\u001b[49m\n",
      "\u001b[0;31mNameError\u001b[0m: name 'df' is not defined"
     ]
    }
   ],
   "source": [
    "# Write the DataFrame to a CSV file\n",
    "# df.to_csv(csv_path, index=False)"
   ]
  },
  {
   "cell_type": "code",
   "execution_count": 16,
   "id": "547c90eb-4f69-492d-b0ca-70b09b506759",
   "metadata": {},
   "outputs": [
    {
     "data": {
      "text/plain": [
       "array(['FINDINGS: Right-sided heart strain, Segmental and subsegmental pulmonary artery branches, No thrombus',\n",
       "       'FINDINGS: Right-sided heart strain, Few new pulmonary emboli, No central saddle pulmonary embolus',\n",
       "       'FINDINGS: Right-sided heart strain, No central saddle pulmonary embolus, Thrombus present',\n",
       "       'FINDINGS: Deep venous thrombosis present, Few new pulmonary emboli',\n",
       "       'FINDINGS: No right-sided heart strain, Deep venous thrombosis present',\n",
       "       'FINDINGS: Deep venous thrombosis present, Right-sided heart strain',\n",
       "       'FINDINGS: No central saddle pulmonary embolus, Right-sided heart strain',\n",
       "       'FINDINGS: The remaining lung parenchyma is unchanged, Few new pulmonary emboli',\n",
       "       'FINDINGS: Segmental and subsegmental pulmonary artery branches, No right-sided heart strain',\n",
       "       'FINDINGS: Right-sided heart strain, Right ventricular to left ventricular ratio is 0.8',\n",
       "       'FINDINGS: Segmental and subsegmental pulmonary artery branches',\n",
       "       'FINDINGS: Central saddle pulmonary embolus, Thrombus present, No right-sided heart strain',\n",
       "       'FINDINGS: The remaining lung parenchyma is unchanged, Decreased left pulmonary artery emboli',\n",
       "       'FINDINGS: Right ventricular to left ventricular ratio is 0.8',\n",
       "       'FINDINGS: The remaining lung parenchyma is unchanged, No thrombus, Central saddle pulmonary embolus',\n",
       "       'FINDINGS: No thrombus, Right-sided heart strain, The remaining lung parenchyma is unchanged',\n",
       "       'FINDINGS: Thrombus present, Deep venous thrombosis present, Deep venous thrombosis present',\n",
       "       'FINDINGS: Right-sided heart strain, Decreased left pulmonary artery emboli',\n",
       "       'FINDINGS: No central saddle pulmonary embolus, No central saddle pulmonary embolus',\n",
       "       'FINDINGS: Right ventricular to left ventricular ratio is 0.8',\n",
       "       'FINDINGS: No thrombus, Segmental and subsegmental pulmonary artery branches',\n",
       "       'FINDINGS: Central saddle pulmonary embolus, No right-sided heart strain',\n",
       "       'FINDINGS: The remaining lung parenchyma is unchanged, The remaining lung parenchyma is unchanged',\n",
       "       'FINDINGS: No right-sided heart strain, The remaining lung parenchyma is unchanged',\n",
       "       'FINDINGS: Segmental and subsegmental pulmonary artery branches, No thrombus',\n",
       "       'FINDINGS: No right-sided heart strain, Central saddle pulmonary embolus',\n",
       "       'FINDINGS: Thrombus present, Few new pulmonary emboli, The remaining lung parenchyma is unchanged',\n",
       "       'FINDINGS: Thrombus present, No central saddle pulmonary embolus',\n",
       "       'FINDINGS: Right-sided heart strain, No central saddle pulmonary embolus, No thrombus',\n",
       "       'FINDINGS: Thrombus present, Right-sided heart strain',\n",
       "       'FINDINGS: No thrombus, No central saddle pulmonary embolus, No central saddle pulmonary embolus',\n",
       "       'FINDINGS: Few new pulmonary emboli, Central saddle pulmonary embolus, Right-sided heart strain',\n",
       "       'FINDINGS: No right-sided heart strain, Central saddle pulmonary embolus, Right-sided heart strain',\n",
       "       'FINDINGS: The remaining lung parenchyma is unchanged, Deep venous thrombosis present',\n",
       "       'FINDINGS: Few new pulmonary emboli, No right-sided heart strain, Central saddle pulmonary embolus',\n",
       "       'FINDINGS: Thrombus present, No thrombus, Thrombus present, No central saddle pulmonary embolus',\n",
       "       'FINDINGS: No right-sided heart strain, Segmental and subsegmental pulmonary artery branches',\n",
       "       'FINDINGS: Right ventricular to left ventricular ratio is 0.8, Thrombus present',\n",
       "       'FINDINGS: Right ventricular to left ventricular ratio is 0.8, No thrombus',\n",
       "       'FINDINGS: No right-sided heart strain, The remaining lung parenchyma is unchanged',\n",
       "       'FINDINGS: Deep venous thrombosis present, Decreased left pulmonary artery emboli',\n",
       "       'FINDINGS: Few new pulmonary emboli, Few new pulmonary emboli, Central saddle pulmonary embolus',\n",
       "       'FINDINGS: No thrombus, Few new pulmonary emboli, Right ventricular to left ventricular ratio is 0.8',\n",
       "       'FINDINGS: Decreased left pulmonary artery emboli',\n",
       "       'FINDINGS: Deep venous thrombosis present, The remaining lung parenchyma is unchanged',\n",
       "       'FINDINGS: Right ventricular to left ventricular ratio is 0.8',\n",
       "       'FINDINGS: Central saddle pulmonary embolus, Thrombus present, Central saddle pulmonary embolus',\n",
       "       'FINDINGS: No right-sided heart strain, Few new pulmonary emboli',\n",
       "       'FINDINGS: No thrombus, No central saddle pulmonary embolus, Right-sided heart strain',\n",
       "       'FINDINGS: No thrombus, Deep venous thrombosis present, The remaining lung parenchyma is unchanged'],\n",
       "      dtype=object)"
      ]
     },
     "execution_count": 16,
     "metadata": {},
     "output_type": "execute_result"
    }
   ],
   "source": [
    "df.Notes.values"
   ]
  },
  {
   "cell_type": "code",
   "execution_count": null,
   "id": "eb3b3fd8-1b94-455f-a2c1-a45e387da07c",
   "metadata": {},
   "outputs": [],
   "source": []
  }
 ],
 "metadata": {
  "kernelspec": {
   "display_name": "Python 3 (ipykernel)",
   "language": "python",
   "name": "python3"
  },
  "language_info": {
   "codemirror_mode": {
    "name": "ipython",
    "version": 3
   },
   "file_extension": ".py",
   "mimetype": "text/x-python",
   "name": "python",
   "nbconvert_exporter": "python",
   "pygments_lexer": "ipython3",
   "version": "3.11.1"
  }
 },
 "nbformat": 4,
 "nbformat_minor": 5
}
