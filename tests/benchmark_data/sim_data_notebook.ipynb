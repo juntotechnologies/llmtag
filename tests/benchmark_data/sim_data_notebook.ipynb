{
 "cells": [
  {
   "cell_type": "markdown",
   "id": "31ed038c-a892-45fb-8f35-ab6e68a8a6b1",
   "metadata": {},
   "source": [
    "# Create Simulation Dataset & Run LLM to Label Data"
   ]
  },
  {
   "cell_type": "markdown",
   "id": "d9d2d85e-c83e-49fa-b395-b744d638a097",
   "metadata": {},
   "source": [
    "#### Install Libraries"
   ]
  },
  {
   "cell_type": "code",
<<<<<<< HEAD
   "execution_count": 1,
   "id": "43fa8279-018f-4015-beb1-5f8519631d9c",
   "metadata": {},
   "outputs": [
    {
     "name": "stdout",
     "output_type": "stream",
     "text": [
      "Requirement already satisfied: scikit-learn in /Users/porwals/Library/Caches/pypoetry/virtualenvs/llmtag-bgWa4FLC-py3.11/lib/python3.11/site-packages (1.3.1)\n",
      "Requirement already satisfied: numpy<2.0,>=1.17.3 in /Users/porwals/Library/Caches/pypoetry/virtualenvs/llmtag-bgWa4FLC-py3.11/lib/python3.11/site-packages (from scikit-learn) (1.26.0)\n",
      "Requirement already satisfied: scipy>=1.5.0 in /Users/porwals/Library/Caches/pypoetry/virtualenvs/llmtag-bgWa4FLC-py3.11/lib/python3.11/site-packages (from scikit-learn) (1.11.3)\n",
      "Requirement already satisfied: joblib>=1.1.1 in /Users/porwals/Library/Caches/pypoetry/virtualenvs/llmtag-bgWa4FLC-py3.11/lib/python3.11/site-packages (from scikit-learn) (1.3.2)\n",
      "Requirement already satisfied: threadpoolctl>=2.0.0 in /Users/porwals/Library/Caches/pypoetry/virtualenvs/llmtag-bgWa4FLC-py3.11/lib/python3.11/site-packages (from scikit-learn) (3.2.0)\n",
      "\n",
      "\u001b[1m[\u001b[0m\u001b[34;49mnotice\u001b[0m\u001b[1;39;49m]\u001b[0m\u001b[39;49m A new release of pip is available: \u001b[0m\u001b[31;49m23.0.1\u001b[0m\u001b[39;49m -> \u001b[0m\u001b[32;49m23.2.1\u001b[0m\n",
      "\u001b[1m[\u001b[0m\u001b[34;49mnotice\u001b[0m\u001b[1;39;49m]\u001b[0m\u001b[39;49m To update, run: \u001b[0m\u001b[32;49mpip install --upgrade pip\u001b[0m\n",
      "Requirement already satisfied: seaborn in /Users/porwals/Library/Caches/pypoetry/virtualenvs/llmtag-bgWa4FLC-py3.11/lib/python3.11/site-packages (0.13.0)\n",
      "Requirement already satisfied: numpy!=1.24.0,>=1.20 in /Users/porwals/Library/Caches/pypoetry/virtualenvs/llmtag-bgWa4FLC-py3.11/lib/python3.11/site-packages (from seaborn) (1.26.0)\n",
      "Requirement already satisfied: pandas>=1.2 in /Users/porwals/Library/Caches/pypoetry/virtualenvs/llmtag-bgWa4FLC-py3.11/lib/python3.11/site-packages (from seaborn) (2.1.1)\n",
      "Requirement already satisfied: matplotlib!=3.6.1,>=3.3 in /Users/porwals/Library/Caches/pypoetry/virtualenvs/llmtag-bgWa4FLC-py3.11/lib/python3.11/site-packages (from seaborn) (3.8.0)\n",
      "Requirement already satisfied: contourpy>=1.0.1 in /Users/porwals/Library/Caches/pypoetry/virtualenvs/llmtag-bgWa4FLC-py3.11/lib/python3.11/site-packages (from matplotlib!=3.6.1,>=3.3->seaborn) (1.1.1)\n",
      "Requirement already satisfied: cycler>=0.10 in /Users/porwals/Library/Caches/pypoetry/virtualenvs/llmtag-bgWa4FLC-py3.11/lib/python3.11/site-packages (from matplotlib!=3.6.1,>=3.3->seaborn) (0.12.1)\n",
      "Requirement already satisfied: fonttools>=4.22.0 in /Users/porwals/Library/Caches/pypoetry/virtualenvs/llmtag-bgWa4FLC-py3.11/lib/python3.11/site-packages (from matplotlib!=3.6.1,>=3.3->seaborn) (4.43.1)\n",
      "Requirement already satisfied: kiwisolver>=1.0.1 in /Users/porwals/Library/Caches/pypoetry/virtualenvs/llmtag-bgWa4FLC-py3.11/lib/python3.11/site-packages (from matplotlib!=3.6.1,>=3.3->seaborn) (1.4.5)\n",
      "Requirement already satisfied: packaging>=20.0 in /Users/porwals/Library/Caches/pypoetry/virtualenvs/llmtag-bgWa4FLC-py3.11/lib/python3.11/site-packages (from matplotlib!=3.6.1,>=3.3->seaborn) (23.2)\n",
      "Requirement already satisfied: pillow>=6.2.0 in /Users/porwals/Library/Caches/pypoetry/virtualenvs/llmtag-bgWa4FLC-py3.11/lib/python3.11/site-packages (from matplotlib!=3.6.1,>=3.3->seaborn) (10.0.1)\n",
      "Requirement already satisfied: pyparsing>=2.3.1 in /Users/porwals/Library/Caches/pypoetry/virtualenvs/llmtag-bgWa4FLC-py3.11/lib/python3.11/site-packages (from matplotlib!=3.6.1,>=3.3->seaborn) (3.1.1)\n",
      "Requirement already satisfied: python-dateutil>=2.7 in /Users/porwals/Library/Caches/pypoetry/virtualenvs/llmtag-bgWa4FLC-py3.11/lib/python3.11/site-packages (from matplotlib!=3.6.1,>=3.3->seaborn) (2.8.2)\n",
      "Requirement already satisfied: pytz>=2020.1 in /Users/porwals/Library/Caches/pypoetry/virtualenvs/llmtag-bgWa4FLC-py3.11/lib/python3.11/site-packages (from pandas>=1.2->seaborn) (2023.3.post1)\n",
      "Requirement already satisfied: tzdata>=2022.1 in /Users/porwals/Library/Caches/pypoetry/virtualenvs/llmtag-bgWa4FLC-py3.11/lib/python3.11/site-packages (from pandas>=1.2->seaborn) (2023.3)\n",
      "Requirement already satisfied: six>=1.5 in /Users/porwals/Library/Caches/pypoetry/virtualenvs/llmtag-bgWa4FLC-py3.11/lib/python3.11/site-packages (from python-dateutil>=2.7->matplotlib!=3.6.1,>=3.3->seaborn) (1.16.0)\n",
      "\n",
      "\u001b[1m[\u001b[0m\u001b[34;49mnotice\u001b[0m\u001b[1;39;49m]\u001b[0m\u001b[39;49m A new release of pip is available: \u001b[0m\u001b[31;49m23.0.1\u001b[0m\u001b[39;49m -> \u001b[0m\u001b[32;49m23.2.1\u001b[0m\n",
      "\u001b[1m[\u001b[0m\u001b[34;49mnotice\u001b[0m\u001b[1;39;49m]\u001b[0m\u001b[39;49m To update, run: \u001b[0m\u001b[32;49mpip install --upgrade pip\u001b[0m\n"
     ]
    }
   ],
   "source": [
    "!pip install scikit-learn\n",
    "!pip install seaborn"
   ]
  },
  {
   "cell_type": "markdown",
   "id": "35ed08e8-2749-4d12-9c52-fea33ba4ada0",
   "metadata": {},
   "source": [
    "#### Import Libraries and Set csv_path"
   ]
  },
  {
   "cell_type": "code",
   "execution_count": 2,
   "id": "f7ad14ae-38ed-4b23-9b2d-9498205e6899",
   "metadata": {},
   "outputs": [],
   "source": [
    "import os"
=======
   "execution_count": null,
   "id": "43fa8279-018f-4015-beb1-5f8519631d9c",
   "metadata": {},
   "outputs": [],
   "source": [
    "\n",
    "!pip install scikit-learn\n",
    "!pip install seaborn\n"
>>>>>>> 17aa49e (Fix unit tests, add dependencies for testing model against truth set, add labeled dataset)
   ]
  },
  {
   "cell_type": "code",
<<<<<<< HEAD
   "execution_count": 3,
=======
   "execution_count": 12,
>>>>>>> 17aa49e (Fix unit tests, add dependencies for testing model against truth set, add labeled dataset)
   "id": "55a19502-62ac-46c8-b718-42b5b909f94f",
   "metadata": {},
   "outputs": [],
   "source": [
    "import pandas as pd\n",
    "import random\n",
    "# Define the path for the CSV file\n",
    "csv_filename = 'df_simdata_1.csv'"
   ]
  },
  {
   "cell_type": "markdown",
   "id": "40d061eb-a18d-4e80-9848-65e6d8a08c60",
   "metadata": {},
   "source": [
    "#### Create Simulation Notes With/Without VTE Evidence"
   ]
  },
  {
   "cell_type": "code",
   "execution_count": 4,
   "id": "6501d028-5bff-4ec4-a13f-5d805682821a",
   "metadata": {},
   "outputs": [],
   "source": [
    "# Define possible text fragments related to VTE\n",
    "positive_fragments = [\n",
    "    \"Thrombus present\",\n",
    "    \"Deep venous thrombosis present\",\n",
    "    \"Few new pulmonary emboli\",\n",
    "    \"Segmental and subsegmental pulmonary artery branches\",\n",
    "    \"Central saddle pulmonary embolus\",\n",
    "    \"Right-sided heart strain\",\n",
    "    \"Right ventricular to left ventricular ratio is 0.8\"\n",
    "]\n",
    "\n",
    "# Define possible text fragments not related to VTE\n",
    "negative_fragments = [\n",
    "    \"No thrombus\",\n",
    "    \"Decreased left pulmonary artery emboli\",\n",
    "    \"The remaining lung parenchyma is unchanged\",\n",
    "    \"No right-sided heart strain\",\n",
    "    \"No central saddle pulmonary embolus\"\n",
    "]\n",
    "\n",
    "# Initialize empty lists to hold notes and labels\n",
    "notes = []\n",
    "labels = []\n"
   ]
  },
  {
   "cell_type": "markdown",
   "id": "23e37f0b-705f-4e81-bd58-8ba89b70a3b4",
   "metadata": {},
   "source": [
    "#### Randomly Generate Records for Dataframe"
   ]
  },
  {
   "cell_type": "code",
   "execution_count": 5,
   "id": "651a84e4-38bc-4a56-af63-7e2f30b85509",
   "metadata": {},
   "outputs": [],
   "source": [
    "# Generate 50 rows\n",
    "for _ in range(50):\n",
    "    note_fragments = []\n",
    "    label = 0  # Assume negative by default\n",
    "\n",
    "    # Randomly select fragments to form a note\n",
    "    while True:\n",
    "        fragment = random.choice(positive_fragments + negative_fragments)\n",
    "        if len(\", \".join(note_fragments) + fragment) + len(\"FINDINGS: \") < 100:\n",
    "            note_fragments.append(fragment)\n",
    "            if fragment in positive_fragments:\n",
    "                label = 1\n",
    "        else:\n",
    "            break\n",
    "\n",
    "    # Create the note\n",
    "    note = \"FINDINGS: \" + \", \".join(note_fragments)\n",
    "\n",
    "    # Append the generated note and label to lists\n",
    "    notes.append(note)\n",
    "    labels.append(label)\n"
   ]
  },
  {
   "cell_type": "markdown",
   "id": "4a1c2447-b6b5-4e52-aac3-a8a7793f4eee",
   "metadata": {},
   "source": [
    "#### Create Dataframe Columns"
   ]
  },
  {
   "cell_type": "code",
   "execution_count": 6,
   "id": "2ffa956c-92d7-441e-9bcc-c88b1817f799",
   "metadata": {},
   "outputs": [],
   "source": [
    "# Create a DataFrame\n",
    "df = pd.DataFrame({\n",
    "    'notes': notes,\n",
    "    'label': labels\n",
    "})"
   ]
  },
  {
   "cell_type": "markdown",
   "id": "1ee8647f-eb38-414e-8efb-6c455821c37d",
   "metadata": {},
   "source": [
    "#### View Dataframe"
   ]
  },
  {
   "cell_type": "code",
   "execution_count": 7,
   "id": "f1534dd8-d9a3-4448-848f-893144809a14",
   "metadata": {},
   "outputs": [
    {
     "data": {
      "text/html": [
       "<div>\n",
       "<style scoped>\n",
       "    .dataframe tbody tr th:only-of-type {\n",
       "        vertical-align: middle;\n",
       "    }\n",
       "\n",
       "    .dataframe tbody tr th {\n",
       "        vertical-align: top;\n",
       "    }\n",
       "\n",
       "    .dataframe thead th {\n",
       "        text-align: right;\n",
       "    }\n",
       "</style>\n",
       "<table border=\"1\" class=\"dataframe\">\n",
       "  <thead>\n",
       "    <tr style=\"text-align: right;\">\n",
       "      <th></th>\n",
       "      <th>notes</th>\n",
       "      <th>label</th>\n",
       "    </tr>\n",
       "  </thead>\n",
       "  <tbody>\n",
       "    <tr>\n",
       "      <th>0</th>\n",
       "      <td>FINDINGS: No thrombus, Segmental and subsegmen...</td>\n",
       "      <td>1</td>\n",
       "    </tr>\n",
       "    <tr>\n",
       "      <th>1</th>\n",
       "      <td>FINDINGS: Deep venous thrombosis present, No c...</td>\n",
       "      <td>1</td>\n",
       "    </tr>\n",
       "    <tr>\n",
       "      <th>2</th>\n",
       "      <td>FINDINGS: Deep venous thrombosis present, Segm...</td>\n",
       "      <td>1</td>\n",
       "    </tr>\n",
       "    <tr>\n",
       "      <th>3</th>\n",
       "      <td>FINDINGS: The remaining lung parenchyma is unc...</td>\n",
       "      <td>0</td>\n",
       "    </tr>\n",
       "    <tr>\n",
       "      <th>4</th>\n",
       "      <td>FINDINGS: No right-sided heart strain, Right v...</td>\n",
       "      <td>1</td>\n",
       "    </tr>\n",
       "  </tbody>\n",
       "</table>\n",
       "</div>"
      ],
      "text/plain": [
       "                                               notes  label\n",
       "0  FINDINGS: No thrombus, Segmental and subsegmen...      1\n",
       "1  FINDINGS: Deep venous thrombosis present, No c...      1\n",
       "2  FINDINGS: Deep venous thrombosis present, Segm...      1\n",
       "3  FINDINGS: The remaining lung parenchyma is unc...      0\n",
       "4  FINDINGS: No right-sided heart strain, Right v...      1"
      ]
     },
     "execution_count": 7,
     "metadata": {},
     "output_type": "execute_result"
    }
   ],
   "source": [
    "# Create a DataFrame\n",
    "df.head()"
   ]
  },
  {
   "cell_type": "markdown",
   "id": "b0934de0-5e1f-4985-b951-8c4c312c6c0b",
   "metadata": {},
   "source": [
    "#### View First 3 Notes"
   ]
  },
  {
   "cell_type": "code",
<<<<<<< HEAD
   "execution_count": 8,
   "id": "29389b7b-af64-42f0-b843-f5bfdd30a057",
   "metadata": {},
   "outputs": [
    {
     "data": {
      "text/plain": [
       "array(['FINDINGS: No thrombus, Segmental and subsegmental pulmonary artery branches',\n",
       "       'FINDINGS: Deep venous thrombosis present, No central saddle pulmonary embolus',\n",
       "       'FINDINGS: Deep venous thrombosis present, Segmental and subsegmental pulmonary artery branches'],\n",
       "      dtype=object)"
      ]
     },
     "execution_count": 8,
     "metadata": {},
     "output_type": "execute_result"
    }
   ],
   "source": [
    "df.notes.values[0:3]"
   ]
  },
  {
   "cell_type": "markdown",
   "id": "a25963d7-3ee6-4cb5-a494-dbf32115c7ec",
   "metadata": {},
   "source": [
    "#### Write to CSV if Necessary"
   ]
  },
  {
   "cell_type": "code",
   "execution_count": 9,
   "id": "78c1fb6f-171b-49f2-a50f-3f425b49fdb3",
=======
   "execution_count": 1,
   "id": "eb3b3fd8-1b94-455f-a2c1-a45e387da07c",
>>>>>>> 17aa49e (Fix unit tests, add dependencies for testing model against truth set, add labeled dataset)
   "metadata": {},
   "outputs": [
    {
     "data": {
      "text/html": [
       "<div>\n",
       "<style scoped>\n",
       "    .dataframe tbody tr th:only-of-type {\n",
       "        vertical-align: middle;\n",
       "    }\n",
       "\n",
       "    .dataframe tbody tr th {\n",
       "        vertical-align: top;\n",
       "    }\n",
       "\n",
       "    .dataframe thead th {\n",
       "        text-align: right;\n",
       "    }\n",
       "</style>\n",
       "<table border=\"1\" class=\"dataframe\">\n",
       "  <thead>\n",
       "    <tr style=\"text-align: right;\">\n",
       "      <th></th>\n",
       "      <th>patient_id</th>\n",
       "      <th>notes</th>\n",
       "      <th>label</th>\n",
       "      <th>llm_label</th>\n",
       "      <th>llm_reasons</th>\n",
       "    </tr>\n",
       "  </thead>\n",
       "  <tbody>\n",
       "    <tr>\n",
       "      <th>0</th>\n",
       "      <td>1</td>\n",
       "      <td>Patient complains of leg pain and swelling. Ul...</td>\n",
       "      <td>1.0</td>\n",
       "      <td>1</td>\n",
       "      <td>Ultrasound confirms DVT</td>\n",
       "    </tr>\n",
       "    <tr>\n",
       "      <th>1</th>\n",
       "      <td>2</td>\n",
       "      <td>Patient experiences chest pain and shortness o...</td>\n",
       "      <td>1.0</td>\n",
       "      <td>1</td>\n",
       "      <td>CT scan confirms PE</td>\n",
       "    </tr>\n",
       "    <tr>\n",
       "      <th>2</th>\n",
       "      <td>3</td>\n",
       "      <td>Patient has a history of DVT. No current sympt...</td>\n",
       "      <td>0.0</td>\n",
       "      <td>0</td>\n",
       "      <td>No Symptoms found</td>\n",
       "    </tr>\n",
       "    <tr>\n",
       "      <th>3</th>\n",
       "      <td>4</td>\n",
       "      <td>No complaints or symptoms related to VTE or PE.</td>\n",
       "      <td>0.0</td>\n",
       "      <td>0</td>\n",
       "      <td>No evidence of VTE or PE</td>\n",
       "    </tr>\n",
       "    <tr>\n",
       "      <th>4</th>\n",
       "      <td>6</td>\n",
       "      <td>Leg swelling and pain present. Ultrasound conf...</td>\n",
       "      <td>1.0</td>\n",
       "      <td>1</td>\n",
       "      <td>Ultrasound confirms DVT</td>\n",
       "    </tr>\n",
       "  </tbody>\n",
       "</table>\n",
       "</div>"
      ],
      "text/plain": [
       "   patient_id                                              notes  label  \\\n",
       "0           1  Patient complains of leg pain and swelling. Ul...    1.0   \n",
       "1           2  Patient experiences chest pain and shortness o...    1.0   \n",
       "2           3  Patient has a history of DVT. No current sympt...    0.0   \n",
       "3           4    No complaints or symptoms related to VTE or PE.    0.0   \n",
       "4           6  Leg swelling and pain present. Ultrasound conf...    1.0   \n",
       "\n",
       "   llm_label               llm_reasons  \n",
       "0          1   Ultrasound confirms DVT  \n",
       "1          1       CT scan confirms PE  \n",
       "2          0         No Symptoms found  \n",
       "3          0  No evidence of VTE or PE  \n",
       "4          1   Ultrasound confirms DVT  "
      ]
     },
     "execution_count": 1,
     "metadata": {},
     "output_type": "execute_result"
    }
   ],
   "source": [
    "import pandas as pd\n",
    "\n",
    "# Define the file path\n",
    "file_path = \"/Users/porwals/Documents/GitHub/python_packages/llmtag/tests/benchmark_data/out.csv\"\n",
    "\n",
    "# Read the CSV file into a DataFrame\n",
    "df = pd.read_csv(file_path)\n",
    "\n",
    "# Display the first few rows of the DataFrame to verify the data has been loaded\n",
    "df.head()\n"
   ]
  },
  {
   "cell_type": "code",
   "execution_count": 8,
   "id": "b4bc56cc-e38c-40e9-9bd6-061270663cb1",
   "metadata": {},
   "outputs": [
    {
     "data": {
      "image/png": "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",
      "text/plain": [
       "<Figure size 1000x700 with 2 Axes>"
      ]
     },
     "metadata": {},
     "output_type": "display_data"
    }
   ],
   "source": [
    "import pandas as pd\n",
    "from sklearn.metrics import confusion_matrix\n",
    "import seaborn as sns\n",
    "import matplotlib.pyplot as plt\n",
    "\n",
    "# Load the data from the local file\n",
    "file_path = \"/Users/porwals/Documents/GitHub/python_packages/llmtag/tests/benchmark_data/out.csv\"\n",
    "df = pd.read_csv(file_path)\n",
    "\n",
    "# Drop rows with NaN values in the 'label' or 'llm_label' columns\n",
    "df = df.dropna(subset=['label', 'llm_label'])\n",
    "\n",
    "# Extract the true labels and predicted labels\n",
    "true_labels = df['label'].values\n",
    "predicted_labels = df['llm_label'].values\n",
    "\n",
    "# Compute the confusion matrix\n",
    "matrix = confusion_matrix(true_labels, predicted_labels)\n",
    "\n",
    "# Plotting the confusion matrix using Seaborn\n",
    "plt.figure(figsize=(10,7))\n",
    "sns.heatmap(matrix, annot=True, fmt='d', cmap='Blues')\n",
    "plt.xlabel('Predicted Label')\n",
    "plt.ylabel('True Label')\n",
    "plt.title('Confusion Matrix')\n",
    "plt.show()\n"
   ]
  },
  {
   "cell_type": "code",
   "execution_count": 10,
   "id": "615111ea-2d31-44fe-9e05-af32a276e0d2",
   "metadata": {},
   "outputs": [
    {
     "name": "stdout",
     "output_type": "stream",
     "text": [
      "F1 Score: 0.9756\n",
      "Precision: 0.9524\n",
      "Recall: 1.0000\n",
      "Accuracy: 0.9792\n"
     ]
    },
    {
     "data": {
      "image/png": "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",
      "text/plain": [
       "<Figure size 1000x700 with 2 Axes>"
      ]
     },
     "metadata": {},
     "output_type": "display_data"
    }
   ],
   "source": [
    "from sklearn.metrics import f1_score, precision_score, recall_score, accuracy_score\n",
    "\n",
    "# Load the data from the local file\n",
    "file_path = \"/Users/porwals/Documents/GitHub/python_packages/llmtag/tests/benchmark_data/out.csv\"\n",
    "df = pd.read_csv(file_path)\n",
    "\n",
    "# Drop rows with NaN values in the 'label' or 'llm_label' columns\n",
    "df = df.dropna(subset=['label', 'llm_label'])\n",
    "\n",
    "# Extract the true labels and predicted labels\n",
    "true_labels = df['label'].values\n",
    "predicted_labels = df['llm_label'].values\n",
    "\n",
    "# Compute the confusion matrix\n",
    "matrix = confusion_matrix(true_labels, predicted_labels)\n",
    "\n",
    "# Compute metrics\n",
    "f1 = f1_score(true_labels, predicted_labels)\n",
    "precision = precision_score(true_labels, predicted_labels)\n",
    "recall = recall_score(true_labels, predicted_labels)\n",
    "accuracy = accuracy_score(true_labels, predicted_labels)\n",
    "\n",
    "# Display metrics\n",
    "print(f\"F1 Score: {f1:.4f}\")\n",
    "print(f\"Precision: {precision:.4f}\")\n",
    "print(f\"Recall: {recall:.4f}\")\n",
    "print(f\"Accuracy: {accuracy:.4f}\")\n",
    "\n",
    "# Plotting the confusion matrix using Seaborn\n",
    "plt.figure(figsize=(10,7))\n",
    "sns.heatmap(matrix, annot=True, fmt='d', cmap='Blues')\n",
    "plt.xlabel('Predicted Label')\n",
    "plt.ylabel('True Label')\n",
    "plt.title('Confusion Matrix')\n",
    "plt.show()\n"
   ]
  },
  {
   "cell_type": "code",
   "execution_count": null,
   "id": "7289af4c-5f05-42c2-9cfd-07956edb0e60",
   "metadata": {},
   "outputs": [],
   "source": [
    "# Write the DataFrame to a CSV file\n",
    "df.to_csv(os.getcwd()+'/'+csv_filename, index=False)"
   ]
  },
  {
   "cell_type": "markdown",
   "id": "495348ea-238d-4fe3-a3ff-64244ddec308",
   "metadata": {},
   "source": [
    "#### Import Functions to Label Data"
   ]
  },
  {
   "cell_type": "code",
   "execution_count": 11,
   "id": "25b85e57-cb53-45a9-a523-215cd7f2615d",
   "metadata": {},
   "outputs": [],
   "source": [
    "from llmtag import get_note_label, download_llama_weights"
   ]
  },
  {
   "cell_type": "markdown",
   "id": "726883ab-7bed-49d0-ad06-c86d0be188c7",
   "metadata": {},
   "source": [
    "#### For Now Just Looking at Labeling, Not Downloading\n",
    "##### Check that model exists"
   ]
  },
  {
   "cell_type": "code",
   "execution_count": 12,
   "id": "413a6db3-56c7-437f-8fc0-360ec5e73160",
   "metadata": {},
   "outputs": [
    {
     "data": {
      "text/plain": [
       "True"
      ]
     },
     "execution_count": 12,
     "metadata": {},
     "output_type": "execute_result"
    }
   ],
   "source": [
    "os.path.exists(os.getcwd()+'/'+'..'+'/'+'..'+'/'+'models'+'/'+'7B'+'/'+'llama-2-7b-chat.Q4_K_M.gguf')"
   ]
  },
  {
   "cell_type": "markdown",
   "id": "06bcee58-06c3-4b11-aabb-2785d35cc7f1",
   "metadata": {},
   "source": [
    "#### Test LLM on single note"
   ]
  },
  {
   "cell_type": "code",
   "execution_count": 14,
   "id": "19320542-c9ab-4fa7-9f64-b81d4df9d151",
   "metadata": {},
   "outputs": [
    {
     "name": "stderr",
     "output_type": "stream",
     "text": [
      "llama_model_loader: loaded meta data with 19 key-value pairs and 291 tensors from /Users/porwals/Documents/GitHub/python_packages/llmtag/tests/benchmark_data/../../models/7B/llama-2-7b-chat.Q4_K_M.gguf (version GGUF V2 (latest))\n",
      "llama_model_loader: - tensor    0:                token_embd.weight q4_K     [  4096, 32000,     1,     1 ]\n",
      "llama_model_loader: - tensor    1:           blk.0.attn_norm.weight f32      [  4096,     1,     1,     1 ]\n",
      "llama_model_loader: - tensor    2:            blk.0.ffn_down.weight q6_K     [ 11008,  4096,     1,     1 ]\n",
      "llama_model_loader: - tensor    3:            blk.0.ffn_gate.weight q4_K     [  4096, 11008,     1,     1 ]\n",
      "llama_model_loader: - tensor    4:              blk.0.ffn_up.weight q4_K     [  4096, 11008,     1,     1 ]\n",
      "llama_model_loader: - tensor    5:            blk.0.ffn_norm.weight f32      [  4096,     1,     1,     1 ]\n",
      "llama_model_loader: - tensor    6:              blk.0.attn_k.weight q4_K     [  4096,  4096,     1,     1 ]\n",
      "llama_model_loader: - tensor    7:         blk.0.attn_output.weight q4_K     [  4096,  4096,     1,     1 ]\n",
      "llama_model_loader: - tensor    8:              blk.0.attn_q.weight q4_K     [  4096,  4096,     1,     1 ]\n",
      "llama_model_loader: - tensor    9:              blk.0.attn_v.weight q6_K     [  4096,  4096,     1,     1 ]\n",
      "llama_model_loader: - tensor   10:           blk.1.attn_norm.weight f32      [  4096,     1,     1,     1 ]\n",
      "llama_model_loader: - tensor   11:            blk.1.ffn_down.weight q6_K     [ 11008,  4096,     1,     1 ]\n",
      "llama_model_loader: - tensor   12:            blk.1.ffn_gate.weight q4_K     [  4096, 11008,     1,     1 ]\n",
      "llama_model_loader: - tensor   13:              blk.1.ffn_up.weight q4_K     [  4096, 11008,     1,     1 ]\n",
      "llama_model_loader: - tensor   14:            blk.1.ffn_norm.weight f32      [  4096,     1,     1,     1 ]\n",
      "llama_model_loader: - tensor   15:              blk.1.attn_k.weight q4_K     [  4096,  4096,     1,     1 ]\n",
      "llama_model_loader: - tensor   16:         blk.1.attn_output.weight q4_K     [  4096,  4096,     1,     1 ]\n",
      "llama_model_loader: - tensor   17:              blk.1.attn_q.weight q4_K     [  4096,  4096,     1,     1 ]\n",
      "llama_model_loader: - tensor   18:              blk.1.attn_v.weight q6_K     [  4096,  4096,     1,     1 ]\n",
      "llama_model_loader: - tensor   19:          blk.10.attn_norm.weight f32      [  4096,     1,     1,     1 ]\n",
      "llama_model_loader: - tensor   20:           blk.10.ffn_down.weight q6_K     [ 11008,  4096,     1,     1 ]\n",
      "llama_model_loader: - tensor   21:           blk.10.ffn_gate.weight q4_K     [  4096, 11008,     1,     1 ]\n",
      "llama_model_loader: - tensor   22:             blk.10.ffn_up.weight q4_K     [  4096, 11008,     1,     1 ]\n",
      "llama_model_loader: - tensor   23:           blk.10.ffn_norm.weight f32      [  4096,     1,     1,     1 ]\n",
      "llama_model_loader: - tensor   24:             blk.10.attn_k.weight q4_K     [  4096,  4096,     1,     1 ]\n",
      "llama_model_loader: - tensor   25:        blk.10.attn_output.weight q4_K     [  4096,  4096,     1,     1 ]\n",
      "llama_model_loader: - tensor   26:             blk.10.attn_q.weight q4_K     [  4096,  4096,     1,     1 ]\n",
      "llama_model_loader: - tensor   27:             blk.10.attn_v.weight q6_K     [  4096,  4096,     1,     1 ]\n",
      "llama_model_loader: - tensor   28:          blk.11.attn_norm.weight f32      [  4096,     1,     1,     1 ]\n",
      "llama_model_loader: - tensor   29:           blk.11.ffn_down.weight q6_K     [ 11008,  4096,     1,     1 ]\n",
      "llama_model_loader: - tensor   30:           blk.11.ffn_gate.weight q4_K     [  4096, 11008,     1,     1 ]\n",
      "llama_model_loader: - tensor   31:             blk.11.ffn_up.weight q4_K     [  4096, 11008,     1,     1 ]\n",
      "llama_model_loader: - tensor   32:           blk.11.ffn_norm.weight f32      [  4096,     1,     1,     1 ]\n",
      "llama_model_loader: - tensor   33:             blk.11.attn_k.weight q4_K     [  4096,  4096,     1,     1 ]\n",
      "llama_model_loader: - tensor   34:        blk.11.attn_output.weight q4_K     [  4096,  4096,     1,     1 ]\n",
      "llama_model_loader: - tensor   35:             blk.11.attn_q.weight q4_K     [  4096,  4096,     1,     1 ]\n",
      "llama_model_loader: - tensor   36:             blk.11.attn_v.weight q6_K     [  4096,  4096,     1,     1 ]\n",
      "llama_model_loader: - tensor   37:          blk.12.attn_norm.weight f32      [  4096,     1,     1,     1 ]\n",
      "llama_model_loader: - tensor   38:           blk.12.ffn_down.weight q4_K     [ 11008,  4096,     1,     1 ]\n",
      "llama_model_loader: - tensor   39:           blk.12.ffn_gate.weight q4_K     [  4096, 11008,     1,     1 ]\n",
      "llama_model_loader: - tensor   40:             blk.12.ffn_up.weight q4_K     [  4096, 11008,     1,     1 ]\n",
      "llama_model_loader: - tensor   41:           blk.12.ffn_norm.weight f32      [  4096,     1,     1,     1 ]\n",
      "llama_model_loader: - tensor   42:             blk.12.attn_k.weight q4_K     [  4096,  4096,     1,     1 ]\n",
      "llama_model_loader: - tensor   43:        blk.12.attn_output.weight q4_K     [  4096,  4096,     1,     1 ]\n",
      "llama_model_loader: - tensor   44:             blk.12.attn_q.weight q4_K     [  4096,  4096,     1,     1 ]\n",
      "llama_model_loader: - tensor   45:             blk.12.attn_v.weight q4_K     [  4096,  4096,     1,     1 ]\n",
      "llama_model_loader: - tensor   46:          blk.13.attn_norm.weight f32      [  4096,     1,     1,     1 ]\n",
      "llama_model_loader: - tensor   47:           blk.13.ffn_down.weight q4_K     [ 11008,  4096,     1,     1 ]\n",
      "llama_model_loader: - tensor   48:           blk.13.ffn_gate.weight q4_K     [  4096, 11008,     1,     1 ]\n",
      "llama_model_loader: - tensor   49:             blk.13.ffn_up.weight q4_K     [  4096, 11008,     1,     1 ]\n",
      "llama_model_loader: - tensor   50:           blk.13.ffn_norm.weight f32      [  4096,     1,     1,     1 ]\n",
      "llama_model_loader: - tensor   51:             blk.13.attn_k.weight q4_K     [  4096,  4096,     1,     1 ]\n",
      "llama_model_loader: - tensor   52:        blk.13.attn_output.weight q4_K     [  4096,  4096,     1,     1 ]\n",
      "llama_model_loader: - tensor   53:             blk.13.attn_q.weight q4_K     [  4096,  4096,     1,     1 ]\n",
      "llama_model_loader: - tensor   54:             blk.13.attn_v.weight q4_K     [  4096,  4096,     1,     1 ]\n",
      "llama_model_loader: - tensor   55:          blk.14.attn_norm.weight f32      [  4096,     1,     1,     1 ]\n",
      "llama_model_loader: - tensor   56:           blk.14.ffn_down.weight q6_K     [ 11008,  4096,     1,     1 ]\n",
      "llama_model_loader: - tensor   57:           blk.14.ffn_gate.weight q4_K     [  4096, 11008,     1,     1 ]\n",
      "llama_model_loader: - tensor   58:             blk.14.ffn_up.weight q4_K     [  4096, 11008,     1,     1 ]\n",
      "llama_model_loader: - tensor   59:           blk.14.ffn_norm.weight f32      [  4096,     1,     1,     1 ]\n",
      "llama_model_loader: - tensor   60:             blk.14.attn_k.weight q4_K     [  4096,  4096,     1,     1 ]\n",
      "llama_model_loader: - tensor   61:        blk.14.attn_output.weight q4_K     [  4096,  4096,     1,     1 ]\n",
      "llama_model_loader: - tensor   62:             blk.14.attn_q.weight q4_K     [  4096,  4096,     1,     1 ]\n",
      "llama_model_loader: - tensor   63:             blk.14.attn_v.weight q6_K     [  4096,  4096,     1,     1 ]\n",
      "llama_model_loader: - tensor   64:          blk.15.attn_norm.weight f32      [  4096,     1,     1,     1 ]\n",
      "llama_model_loader: - tensor   65:           blk.15.ffn_down.weight q4_K     [ 11008,  4096,     1,     1 ]\n",
      "llama_model_loader: - tensor   66:           blk.15.ffn_gate.weight q4_K     [  4096, 11008,     1,     1 ]\n",
      "llama_model_loader: - tensor   67:             blk.15.ffn_up.weight q4_K     [  4096, 11008,     1,     1 ]\n",
      "llama_model_loader: - tensor   68:           blk.15.ffn_norm.weight f32      [  4096,     1,     1,     1 ]\n",
      "llama_model_loader: - tensor   69:             blk.15.attn_k.weight q4_K     [  4096,  4096,     1,     1 ]\n",
      "llama_model_loader: - tensor   70:        blk.15.attn_output.weight q4_K     [  4096,  4096,     1,     1 ]\n",
      "llama_model_loader: - tensor   71:             blk.15.attn_q.weight q4_K     [  4096,  4096,     1,     1 ]\n",
      "llama_model_loader: - tensor   72:             blk.15.attn_v.weight q4_K     [  4096,  4096,     1,     1 ]\n",
      "llama_model_loader: - tensor   73:          blk.16.attn_norm.weight f32      [  4096,     1,     1,     1 ]\n",
      "llama_model_loader: - tensor   74:           blk.16.ffn_down.weight q4_K     [ 11008,  4096,     1,     1 ]\n",
      "llama_model_loader: - tensor   75:           blk.16.ffn_gate.weight q4_K     [  4096, 11008,     1,     1 ]\n",
      "llama_model_loader: - tensor   76:             blk.16.ffn_up.weight q4_K     [  4096, 11008,     1,     1 ]\n",
      "llama_model_loader: - tensor   77:           blk.16.ffn_norm.weight f32      [  4096,     1,     1,     1 ]\n",
      "llama_model_loader: - tensor   78:             blk.16.attn_k.weight q4_K     [  4096,  4096,     1,     1 ]\n",
      "llama_model_loader: - tensor   79:        blk.16.attn_output.weight q4_K     [  4096,  4096,     1,     1 ]\n",
      "llama_model_loader: - tensor   80:             blk.16.attn_q.weight q4_K     [  4096,  4096,     1,     1 ]\n",
      "llama_model_loader: - tensor   81:             blk.16.attn_v.weight q4_K     [  4096,  4096,     1,     1 ]\n",
      "llama_model_loader: - tensor   82:          blk.17.attn_norm.weight f32      [  4096,     1,     1,     1 ]\n",
      "llama_model_loader: - tensor   83:           blk.17.ffn_down.weight q6_K     [ 11008,  4096,     1,     1 ]\n",
      "llama_model_loader: - tensor   84:           blk.17.ffn_gate.weight q4_K     [  4096, 11008,     1,     1 ]\n",
      "llama_model_loader: - tensor   85:             blk.17.ffn_up.weight q4_K     [  4096, 11008,     1,     1 ]\n",
      "llama_model_loader: - tensor   86:           blk.17.ffn_norm.weight f32      [  4096,     1,     1,     1 ]\n",
      "llama_model_loader: - tensor   87:             blk.17.attn_k.weight q4_K     [  4096,  4096,     1,     1 ]\n",
      "llama_model_loader: - tensor   88:        blk.17.attn_output.weight q4_K     [  4096,  4096,     1,     1 ]\n",
      "llama_model_loader: - tensor   89:             blk.17.attn_q.weight q4_K     [  4096,  4096,     1,     1 ]\n",
      "llama_model_loader: - tensor   90:             blk.17.attn_v.weight q6_K     [  4096,  4096,     1,     1 ]\n",
      "llama_model_loader: - tensor   91:          blk.18.attn_norm.weight f32      [  4096,     1,     1,     1 ]\n",
      "llama_model_loader: - tensor   92:           blk.18.ffn_down.weight q4_K     [ 11008,  4096,     1,     1 ]\n",
      "llama_model_loader: - tensor   93:           blk.18.ffn_gate.weight q4_K     [  4096, 11008,     1,     1 ]\n",
      "llama_model_loader: - tensor   94:             blk.18.ffn_up.weight q4_K     [  4096, 11008,     1,     1 ]\n",
      "llama_model_loader: - tensor   95:           blk.18.ffn_norm.weight f32      [  4096,     1,     1,     1 ]\n",
      "llama_model_loader: - tensor   96:             blk.18.attn_k.weight q4_K     [  4096,  4096,     1,     1 ]\n",
      "llama_model_loader: - tensor   97:        blk.18.attn_output.weight q4_K     [  4096,  4096,     1,     1 ]\n",
      "llama_model_loader: - tensor   98:             blk.18.attn_q.weight q4_K     [  4096,  4096,     1,     1 ]\n",
      "llama_model_loader: - tensor   99:             blk.18.attn_v.weight q4_K     [  4096,  4096,     1,     1 ]\n",
      "llama_model_loader: - tensor  100:          blk.19.attn_norm.weight f32      [  4096,     1,     1,     1 ]\n",
      "llama_model_loader: - tensor  101:           blk.19.ffn_down.weight q4_K     [ 11008,  4096,     1,     1 ]\n",
      "llama_model_loader: - tensor  102:           blk.19.ffn_gate.weight q4_K     [  4096, 11008,     1,     1 ]\n",
      "llama_model_loader: - tensor  103:             blk.19.ffn_up.weight q4_K     [  4096, 11008,     1,     1 ]\n",
      "llama_model_loader: - tensor  104:           blk.19.ffn_norm.weight f32      [  4096,     1,     1,     1 ]\n",
      "llama_model_loader: - tensor  105:             blk.19.attn_k.weight q4_K     [  4096,  4096,     1,     1 ]\n",
      "llama_model_loader: - tensor  106:        blk.19.attn_output.weight q4_K     [  4096,  4096,     1,     1 ]\n",
      "llama_model_loader: - tensor  107:             blk.19.attn_q.weight q4_K     [  4096,  4096,     1,     1 ]\n",
      "llama_model_loader: - tensor  108:             blk.19.attn_v.weight q4_K     [  4096,  4096,     1,     1 ]\n",
      "llama_model_loader: - tensor  109:           blk.2.attn_norm.weight f32      [  4096,     1,     1,     1 ]\n",
      "llama_model_loader: - tensor  110:            blk.2.ffn_down.weight q6_K     [ 11008,  4096,     1,     1 ]\n",
      "llama_model_loader: - tensor  111:            blk.2.ffn_gate.weight q4_K     [  4096, 11008,     1,     1 ]\n",
      "llama_model_loader: - tensor  112:              blk.2.ffn_up.weight q4_K     [  4096, 11008,     1,     1 ]\n",
      "llama_model_loader: - tensor  113:            blk.2.ffn_norm.weight f32      [  4096,     1,     1,     1 ]\n",
      "llama_model_loader: - tensor  114:              blk.2.attn_k.weight q4_K     [  4096,  4096,     1,     1 ]\n",
      "llama_model_loader: - tensor  115:         blk.2.attn_output.weight q4_K     [  4096,  4096,     1,     1 ]\n",
      "llama_model_loader: - tensor  116:              blk.2.attn_q.weight q4_K     [  4096,  4096,     1,     1 ]\n",
      "llama_model_loader: - tensor  117:              blk.2.attn_v.weight q6_K     [  4096,  4096,     1,     1 ]\n",
      "llama_model_loader: - tensor  118:          blk.20.attn_norm.weight f32      [  4096,     1,     1,     1 ]\n",
      "llama_model_loader: - tensor  119:           blk.20.ffn_down.weight q4_K     [ 11008,  4096,     1,     1 ]\n",
      "llama_model_loader: - tensor  120:           blk.20.ffn_gate.weight q4_K     [  4096, 11008,     1,     1 ]\n",
      "llama_model_loader: - tensor  121:             blk.20.ffn_up.weight q4_K     [  4096, 11008,     1,     1 ]\n",
      "llama_model_loader: - tensor  122:           blk.20.ffn_norm.weight f32      [  4096,     1,     1,     1 ]\n",
      "llama_model_loader: - tensor  123:             blk.20.attn_k.weight q4_K     [  4096,  4096,     1,     1 ]\n",
      "llama_model_loader: - tensor  124:        blk.20.attn_output.weight q4_K     [  4096,  4096,     1,     1 ]\n",
      "llama_model_loader: - tensor  125:             blk.20.attn_q.weight q4_K     [  4096,  4096,     1,     1 ]\n",
      "llama_model_loader: - tensor  126:             blk.20.attn_v.weight q4_K     [  4096,  4096,     1,     1 ]\n",
      "llama_model_loader: - tensor  127:          blk.21.attn_norm.weight f32      [  4096,     1,     1,     1 ]\n",
      "llama_model_loader: - tensor  128:           blk.21.ffn_down.weight q4_K     [ 11008,  4096,     1,     1 ]\n",
      "llama_model_loader: - tensor  129:           blk.21.ffn_gate.weight q4_K     [  4096, 11008,     1,     1 ]\n",
      "llama_model_loader: - tensor  130:             blk.21.ffn_up.weight q4_K     [  4096, 11008,     1,     1 ]\n",
      "llama_model_loader: - tensor  131:           blk.21.ffn_norm.weight f32      [  4096,     1,     1,     1 ]\n",
      "llama_model_loader: - tensor  132:             blk.21.attn_k.weight q4_K     [  4096,  4096,     1,     1 ]\n",
      "llama_model_loader: - tensor  133:        blk.21.attn_output.weight q4_K     [  4096,  4096,     1,     1 ]\n",
      "llama_model_loader: - tensor  134:             blk.21.attn_q.weight q4_K     [  4096,  4096,     1,     1 ]\n",
      "llama_model_loader: - tensor  135:             blk.21.attn_v.weight q4_K     [  4096,  4096,     1,     1 ]\n",
      "llama_model_loader: - tensor  136:          blk.22.attn_norm.weight f32      [  4096,     1,     1,     1 ]\n",
      "llama_model_loader: - tensor  137:           blk.22.ffn_down.weight q6_K     [ 11008,  4096,     1,     1 ]\n",
      "llama_model_loader: - tensor  138:           blk.22.ffn_gate.weight q4_K     [  4096, 11008,     1,     1 ]\n",
      "llama_model_loader: - tensor  139:             blk.22.ffn_up.weight q4_K     [  4096, 11008,     1,     1 ]\n",
      "llama_model_loader: - tensor  140:           blk.22.ffn_norm.weight f32      [  4096,     1,     1,     1 ]\n",
      "llama_model_loader: - tensor  141:             blk.22.attn_k.weight q4_K     [  4096,  4096,     1,     1 ]\n",
      "llama_model_loader: - tensor  142:        blk.22.attn_output.weight q4_K     [  4096,  4096,     1,     1 ]\n",
      "llama_model_loader: - tensor  143:             blk.22.attn_q.weight q4_K     [  4096,  4096,     1,     1 ]\n",
      "llama_model_loader: - tensor  144:             blk.22.attn_v.weight q6_K     [  4096,  4096,     1,     1 ]\n",
      "llama_model_loader: - tensor  145:          blk.23.attn_norm.weight f32      [  4096,     1,     1,     1 ]\n",
      "llama_model_loader: - tensor  146:           blk.23.ffn_down.weight q4_K     [ 11008,  4096,     1,     1 ]\n",
      "llama_model_loader: - tensor  147:           blk.23.ffn_gate.weight q4_K     [  4096, 11008,     1,     1 ]\n",
      "llama_model_loader: - tensor  148:             blk.23.ffn_up.weight q4_K     [  4096, 11008,     1,     1 ]\n",
      "llama_model_loader: - tensor  149:           blk.23.ffn_norm.weight f32      [  4096,     1,     1,     1 ]\n",
      "llama_model_loader: - tensor  150:             blk.23.attn_k.weight q4_K     [  4096,  4096,     1,     1 ]\n",
      "llama_model_loader: - tensor  151:        blk.23.attn_output.weight q4_K     [  4096,  4096,     1,     1 ]\n",
      "llama_model_loader: - tensor  152:             blk.23.attn_q.weight q4_K     [  4096,  4096,     1,     1 ]\n",
      "llama_model_loader: - tensor  153:             blk.23.attn_v.weight q4_K     [  4096,  4096,     1,     1 ]\n",
      "llama_model_loader: - tensor  154:           blk.3.attn_norm.weight f32      [  4096,     1,     1,     1 ]\n",
      "llama_model_loader: - tensor  155:            blk.3.ffn_down.weight q4_K     [ 11008,  4096,     1,     1 ]\n",
      "llama_model_loader: - tensor  156:            blk.3.ffn_gate.weight q4_K     [  4096, 11008,     1,     1 ]\n",
      "llama_model_loader: - tensor  157:              blk.3.ffn_up.weight q4_K     [  4096, 11008,     1,     1 ]\n",
      "llama_model_loader: - tensor  158:            blk.3.ffn_norm.weight f32      [  4096,     1,     1,     1 ]\n",
      "llama_model_loader: - tensor  159:              blk.3.attn_k.weight q4_K     [  4096,  4096,     1,     1 ]\n",
      "llama_model_loader: - tensor  160:         blk.3.attn_output.weight q4_K     [  4096,  4096,     1,     1 ]\n",
      "llama_model_loader: - tensor  161:              blk.3.attn_q.weight q4_K     [  4096,  4096,     1,     1 ]\n",
      "llama_model_loader: - tensor  162:              blk.3.attn_v.weight q4_K     [  4096,  4096,     1,     1 ]\n",
      "llama_model_loader: - tensor  163:           blk.4.attn_norm.weight f32      [  4096,     1,     1,     1 ]\n",
      "llama_model_loader: - tensor  164:            blk.4.ffn_down.weight q6_K     [ 11008,  4096,     1,     1 ]\n",
      "llama_model_loader: - tensor  165:            blk.4.ffn_gate.weight q4_K     [  4096, 11008,     1,     1 ]\n",
      "llama_model_loader: - tensor  166:              blk.4.ffn_up.weight q4_K     [  4096, 11008,     1,     1 ]\n",
      "llama_model_loader: - tensor  167:            blk.4.ffn_norm.weight f32      [  4096,     1,     1,     1 ]\n",
      "llama_model_loader: - tensor  168:              blk.4.attn_k.weight q4_K     [  4096,  4096,     1,     1 ]\n",
      "llama_model_loader: - tensor  169:         blk.4.attn_output.weight q4_K     [  4096,  4096,     1,     1 ]\n",
      "llama_model_loader: - tensor  170:              blk.4.attn_q.weight q4_K     [  4096,  4096,     1,     1 ]\n",
      "llama_model_loader: - tensor  171:              blk.4.attn_v.weight q6_K     [  4096,  4096,     1,     1 ]\n",
      "llama_model_loader: - tensor  172:           blk.5.attn_norm.weight f32      [  4096,     1,     1,     1 ]\n",
      "llama_model_loader: - tensor  173:            blk.5.ffn_down.weight q4_K     [ 11008,  4096,     1,     1 ]\n",
      "llama_model_loader: - tensor  174:            blk.5.ffn_gate.weight q4_K     [  4096, 11008,     1,     1 ]\n",
      "llama_model_loader: - tensor  175:              blk.5.ffn_up.weight q4_K     [  4096, 11008,     1,     1 ]\n",
      "llama_model_loader: - tensor  176:            blk.5.ffn_norm.weight f32      [  4096,     1,     1,     1 ]\n",
      "llama_model_loader: - tensor  177:              blk.5.attn_k.weight q4_K     [  4096,  4096,     1,     1 ]\n",
      "llama_model_loader: - tensor  178:         blk.5.attn_output.weight q4_K     [  4096,  4096,     1,     1 ]\n",
      "llama_model_loader: - tensor  179:              blk.5.attn_q.weight q4_K     [  4096,  4096,     1,     1 ]\n",
      "llama_model_loader: - tensor  180:              blk.5.attn_v.weight q4_K     [  4096,  4096,     1,     1 ]\n",
      "llama_model_loader: - tensor  181:           blk.6.attn_norm.weight f32      [  4096,     1,     1,     1 ]\n",
      "llama_model_loader: - tensor  182:            blk.6.ffn_down.weight q4_K     [ 11008,  4096,     1,     1 ]\n",
      "llama_model_loader: - tensor  183:            blk.6.ffn_gate.weight q4_K     [  4096, 11008,     1,     1 ]\n",
      "llama_model_loader: - tensor  184:              blk.6.ffn_up.weight q4_K     [  4096, 11008,     1,     1 ]\n",
      "llama_model_loader: - tensor  185:            blk.6.ffn_norm.weight f32      [  4096,     1,     1,     1 ]\n",
      "llama_model_loader: - tensor  186:              blk.6.attn_k.weight q4_K     [  4096,  4096,     1,     1 ]\n",
      "llama_model_loader: - tensor  187:         blk.6.attn_output.weight q4_K     [  4096,  4096,     1,     1 ]\n",
      "llama_model_loader: - tensor  188:              blk.6.attn_q.weight q4_K     [  4096,  4096,     1,     1 ]\n",
      "llama_model_loader: - tensor  189:              blk.6.attn_v.weight q4_K     [  4096,  4096,     1,     1 ]\n",
      "llama_model_loader: - tensor  190:           blk.7.attn_norm.weight f32      [  4096,     1,     1,     1 ]\n",
      "llama_model_loader: - tensor  191:            blk.7.ffn_down.weight q6_K     [ 11008,  4096,     1,     1 ]\n",
      "llama_model_loader: - tensor  192:            blk.7.ffn_gate.weight q4_K     [  4096, 11008,     1,     1 ]\n",
      "llama_model_loader: - tensor  193:              blk.7.ffn_up.weight q4_K     [  4096, 11008,     1,     1 ]\n",
      "llama_model_loader: - tensor  194:            blk.7.ffn_norm.weight f32      [  4096,     1,     1,     1 ]\n",
      "llama_model_loader: - tensor  195:              blk.7.attn_k.weight q4_K     [  4096,  4096,     1,     1 ]\n",
      "llama_model_loader: - tensor  196:         blk.7.attn_output.weight q4_K     [  4096,  4096,     1,     1 ]\n",
      "llama_model_loader: - tensor  197:              blk.7.attn_q.weight q4_K     [  4096,  4096,     1,     1 ]\n",
      "llama_model_loader: - tensor  198:              blk.7.attn_v.weight q6_K     [  4096,  4096,     1,     1 ]\n",
      "llama_model_loader: - tensor  199:           blk.8.attn_norm.weight f32      [  4096,     1,     1,     1 ]\n",
      "llama_model_loader: - tensor  200:            blk.8.ffn_down.weight q4_K     [ 11008,  4096,     1,     1 ]\n",
      "llama_model_loader: - tensor  201:            blk.8.ffn_gate.weight q4_K     [  4096, 11008,     1,     1 ]\n",
      "llama_model_loader: - tensor  202:              blk.8.ffn_up.weight q4_K     [  4096, 11008,     1,     1 ]\n",
      "llama_model_loader: - tensor  203:            blk.8.ffn_norm.weight f32      [  4096,     1,     1,     1 ]\n",
      "llama_model_loader: - tensor  204:              blk.8.attn_k.weight q4_K     [  4096,  4096,     1,     1 ]\n",
      "llama_model_loader: - tensor  205:         blk.8.attn_output.weight q4_K     [  4096,  4096,     1,     1 ]\n",
      "llama_model_loader: - tensor  206:              blk.8.attn_q.weight q4_K     [  4096,  4096,     1,     1 ]\n",
      "llama_model_loader: - tensor  207:              blk.8.attn_v.weight q4_K     [  4096,  4096,     1,     1 ]\n",
      "llama_model_loader: - tensor  208:           blk.9.attn_norm.weight f32      [  4096,     1,     1,     1 ]\n",
      "llama_model_loader: - tensor  209:            blk.9.ffn_down.weight q4_K     [ 11008,  4096,     1,     1 ]\n",
      "llama_model_loader: - tensor  210:            blk.9.ffn_gate.weight q4_K     [  4096, 11008,     1,     1 ]\n",
      "llama_model_loader: - tensor  211:              blk.9.ffn_up.weight q4_K     [  4096, 11008,     1,     1 ]\n",
      "llama_model_loader: - tensor  212:            blk.9.ffn_norm.weight f32      [  4096,     1,     1,     1 ]\n",
      "llama_model_loader: - tensor  213:              blk.9.attn_k.weight q4_K     [  4096,  4096,     1,     1 ]\n",
      "llama_model_loader: - tensor  214:         blk.9.attn_output.weight q4_K     [  4096,  4096,     1,     1 ]\n",
      "llama_model_loader: - tensor  215:              blk.9.attn_q.weight q4_K     [  4096,  4096,     1,     1 ]\n",
      "llama_model_loader: - tensor  216:              blk.9.attn_v.weight q4_K     [  4096,  4096,     1,     1 ]\n",
      "llama_model_loader: - tensor  217:                    output.weight q6_K     [  4096, 32000,     1,     1 ]\n",
      "llama_model_loader: - tensor  218:          blk.24.attn_norm.weight f32      [  4096,     1,     1,     1 ]\n",
      "llama_model_loader: - tensor  219:           blk.24.ffn_down.weight q6_K     [ 11008,  4096,     1,     1 ]\n",
      "llama_model_loader: - tensor  220:           blk.24.ffn_gate.weight q4_K     [  4096, 11008,     1,     1 ]\n",
      "llama_model_loader: - tensor  221:             blk.24.ffn_up.weight q4_K     [  4096, 11008,     1,     1 ]\n",
      "llama_model_loader: - tensor  222:           blk.24.ffn_norm.weight f32      [  4096,     1,     1,     1 ]\n",
      "llama_model_loader: - tensor  223:             blk.24.attn_k.weight q4_K     [  4096,  4096,     1,     1 ]\n",
      "llama_model_loader: - tensor  224:        blk.24.attn_output.weight q4_K     [  4096,  4096,     1,     1 ]\n",
      "llama_model_loader: - tensor  225:             blk.24.attn_q.weight q4_K     [  4096,  4096,     1,     1 ]\n",
      "llama_model_loader: - tensor  226:             blk.24.attn_v.weight q6_K     [  4096,  4096,     1,     1 ]\n",
      "llama_model_loader: - tensor  227:          blk.25.attn_norm.weight f32      [  4096,     1,     1,     1 ]\n",
      "llama_model_loader: - tensor  228:           blk.25.ffn_down.weight q4_K     [ 11008,  4096,     1,     1 ]\n",
      "llama_model_loader: - tensor  229:           blk.25.ffn_gate.weight q4_K     [  4096, 11008,     1,     1 ]\n",
      "llama_model_loader: - tensor  230:             blk.25.ffn_up.weight q4_K     [  4096, 11008,     1,     1 ]\n",
      "llama_model_loader: - tensor  231:           blk.25.ffn_norm.weight f32      [  4096,     1,     1,     1 ]\n",
      "llama_model_loader: - tensor  232:             blk.25.attn_k.weight q4_K     [  4096,  4096,     1,     1 ]\n",
      "llama_model_loader: - tensor  233:        blk.25.attn_output.weight q4_K     [  4096,  4096,     1,     1 ]\n",
      "llama_model_loader: - tensor  234:             blk.25.attn_q.weight q4_K     [  4096,  4096,     1,     1 ]\n",
      "llama_model_loader: - tensor  235:             blk.25.attn_v.weight q4_K     [  4096,  4096,     1,     1 ]\n",
      "llama_model_loader: - tensor  236:          blk.26.attn_norm.weight f32      [  4096,     1,     1,     1 ]\n",
      "llama_model_loader: - tensor  237:           blk.26.ffn_down.weight q4_K     [ 11008,  4096,     1,     1 ]\n",
      "llama_model_loader: - tensor  238:           blk.26.ffn_gate.weight q4_K     [  4096, 11008,     1,     1 ]\n",
      "llama_model_loader: - tensor  239:             blk.26.ffn_up.weight q4_K     [  4096, 11008,     1,     1 ]\n",
      "llama_model_loader: - tensor  240:           blk.26.ffn_norm.weight f32      [  4096,     1,     1,     1 ]\n",
      "llama_model_loader: - tensor  241:             blk.26.attn_k.weight q4_K     [  4096,  4096,     1,     1 ]\n",
      "llama_model_loader: - tensor  242:        blk.26.attn_output.weight q4_K     [  4096,  4096,     1,     1 ]\n",
      "llama_model_loader: - tensor  243:             blk.26.attn_q.weight q4_K     [  4096,  4096,     1,     1 ]\n",
      "llama_model_loader: - tensor  244:             blk.26.attn_v.weight q4_K     [  4096,  4096,     1,     1 ]\n",
      "llama_model_loader: - tensor  245:          blk.27.attn_norm.weight f32      [  4096,     1,     1,     1 ]\n",
      "llama_model_loader: - tensor  246:           blk.27.ffn_down.weight q6_K     [ 11008,  4096,     1,     1 ]\n",
      "llama_model_loader: - tensor  247:           blk.27.ffn_gate.weight q4_K     [  4096, 11008,     1,     1 ]\n",
      "llama_model_loader: - tensor  248:             blk.27.ffn_up.weight q4_K     [  4096, 11008,     1,     1 ]\n",
      "llama_model_loader: - tensor  249:           blk.27.ffn_norm.weight f32      [  4096,     1,     1,     1 ]\n",
      "llama_model_loader: - tensor  250:             blk.27.attn_k.weight q4_K     [  4096,  4096,     1,     1 ]\n",
      "llama_model_loader: - tensor  251:        blk.27.attn_output.weight q4_K     [  4096,  4096,     1,     1 ]\n",
      "llama_model_loader: - tensor  252:             blk.27.attn_q.weight q4_K     [  4096,  4096,     1,     1 ]\n",
      "llama_model_loader: - tensor  253:             blk.27.attn_v.weight q6_K     [  4096,  4096,     1,     1 ]\n",
      "llama_model_loader: - tensor  254:          blk.28.attn_norm.weight f32      [  4096,     1,     1,     1 ]\n",
      "llama_model_loader: - tensor  255:           blk.28.ffn_down.weight q6_K     [ 11008,  4096,     1,     1 ]\n",
      "llama_model_loader: - tensor  256:           blk.28.ffn_gate.weight q4_K     [  4096, 11008,     1,     1 ]\n",
      "llama_model_loader: - tensor  257:             blk.28.ffn_up.weight q4_K     [  4096, 11008,     1,     1 ]\n",
      "llama_model_loader: - tensor  258:           blk.28.ffn_norm.weight f32      [  4096,     1,     1,     1 ]\n",
      "llama_model_loader: - tensor  259:             blk.28.attn_k.weight q4_K     [  4096,  4096,     1,     1 ]\n",
      "llama_model_loader: - tensor  260:        blk.28.attn_output.weight q4_K     [  4096,  4096,     1,     1 ]\n",
      "llama_model_loader: - tensor  261:             blk.28.attn_q.weight q4_K     [  4096,  4096,     1,     1 ]\n",
      "llama_model_loader: - tensor  262:             blk.28.attn_v.weight q6_K     [  4096,  4096,     1,     1 ]\n",
      "llama_model_loader: - tensor  263:          blk.29.attn_norm.weight f32      [  4096,     1,     1,     1 ]\n",
      "llama_model_loader: - tensor  264:           blk.29.ffn_down.weight q6_K     [ 11008,  4096,     1,     1 ]\n",
      "llama_model_loader: - tensor  265:           blk.29.ffn_gate.weight q4_K     [  4096, 11008,     1,     1 ]\n",
      "llama_model_loader: - tensor  266:             blk.29.ffn_up.weight q4_K     [  4096, 11008,     1,     1 ]\n",
      "llama_model_loader: - tensor  267:           blk.29.ffn_norm.weight f32      [  4096,     1,     1,     1 ]\n",
      "llama_model_loader: - tensor  268:             blk.29.attn_k.weight q4_K     [  4096,  4096,     1,     1 ]\n",
      "llama_model_loader: - tensor  269:        blk.29.attn_output.weight q4_K     [  4096,  4096,     1,     1 ]\n",
      "llama_model_loader: - tensor  270:             blk.29.attn_q.weight q4_K     [  4096,  4096,     1,     1 ]\n",
      "llama_model_loader: - tensor  271:             blk.29.attn_v.weight q6_K     [  4096,  4096,     1,     1 ]\n",
      "llama_model_loader: - tensor  272:          blk.30.attn_norm.weight f32      [  4096,     1,     1,     1 ]\n",
      "llama_model_loader: - tensor  273:           blk.30.ffn_down.weight q6_K     [ 11008,  4096,     1,     1 ]\n",
      "llama_model_loader: - tensor  274:           blk.30.ffn_gate.weight q4_K     [  4096, 11008,     1,     1 ]\n",
      "llama_model_loader: - tensor  275:             blk.30.ffn_up.weight q4_K     [  4096, 11008,     1,     1 ]\n",
      "llama_model_loader: - tensor  276:           blk.30.ffn_norm.weight f32      [  4096,     1,     1,     1 ]\n",
      "llama_model_loader: - tensor  277:             blk.30.attn_k.weight q4_K     [  4096,  4096,     1,     1 ]\n",
      "llama_model_loader: - tensor  278:        blk.30.attn_output.weight q4_K     [  4096,  4096,     1,     1 ]\n",
      "llama_model_loader: - tensor  279:             blk.30.attn_q.weight q4_K     [  4096,  4096,     1,     1 ]\n",
      "llama_model_loader: - tensor  280:             blk.30.attn_v.weight q6_K     [  4096,  4096,     1,     1 ]\n",
      "llama_model_loader: - tensor  281:          blk.31.attn_norm.weight f32      [  4096,     1,     1,     1 ]\n",
      "llama_model_loader: - tensor  282:           blk.31.ffn_down.weight q6_K     [ 11008,  4096,     1,     1 ]\n",
      "llama_model_loader: - tensor  283:           blk.31.ffn_gate.weight q4_K     [  4096, 11008,     1,     1 ]\n",
      "llama_model_loader: - tensor  284:             blk.31.ffn_up.weight q4_K     [  4096, 11008,     1,     1 ]\n",
      "llama_model_loader: - tensor  285:           blk.31.ffn_norm.weight f32      [  4096,     1,     1,     1 ]\n",
      "llama_model_loader: - tensor  286:             blk.31.attn_k.weight q4_K     [  4096,  4096,     1,     1 ]\n",
      "llama_model_loader: - tensor  287:        blk.31.attn_output.weight q4_K     [  4096,  4096,     1,     1 ]\n",
      "llama_model_loader: - tensor  288:             blk.31.attn_q.weight q4_K     [  4096,  4096,     1,     1 ]\n",
      "llama_model_loader: - tensor  289:             blk.31.attn_v.weight q6_K     [  4096,  4096,     1,     1 ]\n",
      "llama_model_loader: - tensor  290:               output_norm.weight f32      [  4096,     1,     1,     1 ]\n",
      "llama_model_loader: - kv   0:                       general.architecture str     \n",
      "llama_model_loader: - kv   1:                               general.name str     \n",
      "llama_model_loader: - kv   2:                       llama.context_length u32     \n",
      "llama_model_loader: - kv   3:                     llama.embedding_length u32     \n",
      "llama_model_loader: - kv   4:                          llama.block_count u32     \n",
      "llama_model_loader: - kv   5:                  llama.feed_forward_length u32     \n",
      "llama_model_loader: - kv   6:                 llama.rope.dimension_count u32     \n",
      "llama_model_loader: - kv   7:                 llama.attention.head_count u32     \n",
      "llama_model_loader: - kv   8:              llama.attention.head_count_kv u32     \n",
      "llama_model_loader: - kv   9:     llama.attention.layer_norm_rms_epsilon f32     \n",
      "llama_model_loader: - kv  10:                          general.file_type u32     \n",
      "llama_model_loader: - kv  11:                       tokenizer.ggml.model str     \n",
      "llama_model_loader: - kv  12:                      tokenizer.ggml.tokens arr     \n",
      "llama_model_loader: - kv  13:                      tokenizer.ggml.scores arr     \n",
      "llama_model_loader: - kv  14:                  tokenizer.ggml.token_type arr     \n",
      "llama_model_loader: - kv  15:                tokenizer.ggml.bos_token_id u32     \n",
      "llama_model_loader: - kv  16:                tokenizer.ggml.eos_token_id u32     \n",
      "llama_model_loader: - kv  17:            tokenizer.ggml.unknown_token_id u32     \n",
      "llama_model_loader: - kv  18:               general.quantization_version u32     \n",
      "llama_model_loader: - type  f32:   65 tensors\n",
      "llama_model_loader: - type q4_K:  193 tensors\n",
      "llama_model_loader: - type q6_K:   33 tensors\n",
      "llm_load_print_meta: format           = GGUF V2 (latest)\n",
      "llm_load_print_meta: arch             = llama\n",
      "llm_load_print_meta: vocab type       = SPM\n",
      "llm_load_print_meta: n_vocab          = 32000\n",
      "llm_load_print_meta: n_merges         = 0\n",
      "llm_load_print_meta: n_ctx_train      = 4096\n",
      "llm_load_print_meta: n_embd           = 4096\n",
      "llm_load_print_meta: n_head           = 32\n",
      "llm_load_print_meta: n_head_kv        = 32\n",
      "llm_load_print_meta: n_layer          = 32\n",
      "llm_load_print_meta: n_rot            = 128\n",
      "llm_load_print_meta: n_gqa            = 1\n",
      "llm_load_print_meta: f_norm_eps       = 0.0e+00\n",
      "llm_load_print_meta: f_norm_rms_eps   = 1.0e-06\n",
      "llm_load_print_meta: n_ff             = 11008\n",
      "llm_load_print_meta: freq_base_train  = 10000.0\n",
      "llm_load_print_meta: freq_scale_train = 1\n",
      "llm_load_print_meta: model type       = 7B\n",
      "llm_load_print_meta: model ftype      = mostly Q4_K - Medium\n",
      "llm_load_print_meta: model params     = 6.74 B\n",
      "llm_load_print_meta: model size       = 3.80 GiB (4.84 BPW) \n",
      "llm_load_print_meta: general.name   = LLaMA v2\n",
      "llm_load_print_meta: BOS token = 1 '<s>'\n",
      "llm_load_print_meta: EOS token = 2 '</s>'\n",
      "llm_load_print_meta: UNK token = 0 '<unk>'\n",
      "llm_load_print_meta: LF token  = 13 '<0x0A>'\n",
      "llm_load_tensors: ggml ctx size =    0.09 MB\n",
      "llm_load_tensors: mem required  = 3891.34 MB\n",
      "..................................................................................................\n",
      "llama_new_context_with_model: n_ctx      = 512\n",
      "llama_new_context_with_model: freq_base  = 10000.0\n",
      "llama_new_context_with_model: freq_scale = 1\n",
      "llama_new_context_with_model: kv self size  =  256.00 MB\n",
      "llama_new_context_with_model: compute buffer total size = 10.28 MB\n"
     ]
    }
   ],
   "source": [
    "llm_label = get_note_label(note=\"\"\"FINDINGS:\n",
    "            PULMONARY EMBOLUS: Few new pulmonary emboli within segmental and \n",
    "            subsegmental pulmonary artery branches in the left lower lobe. No central \n",
    "            saddle pulmonary embolus. No right-sided heart strain. Right ventricular \n",
    "            to left ventricular ratio is 0.8.\"\"\", model_path=os.getcwd()+'/'+'..'+'/'+'..'+'/'+'models'+'/'+'7B'+'/'+'llama-2-7b-chat.Q4_K_M.gguf')"
   ]
  },
  {
   "cell_type": "markdown",
   "id": "2d875a57-e1fc-4600-aa14-747182685621",
   "metadata": {},
   "source": [
    "#### View Single LLM-Generated Label"
   ]
  },
  {
   "cell_type": "code",
   "execution_count": 20,
   "id": "1d547aa0-4e8e-42c2-92fd-c6515f69b938",
   "metadata": {},
   "outputs": [
    {
     "data": {
      "text/plain": [
       "{'reason': 'Finding of pulmonary embolus', 'label': 1}"
      ]
     },
     "execution_count": 20,
     "metadata": {},
     "output_type": "execute_result"
    }
   ],
   "source": [
    "llm_label"
   ]
  },
  {
   "cell_type": "markdown",
   "id": "1eaa2fd4-29ba-428a-bea1-b83b1ce7d014",
   "metadata": {},
   "source": [
    "#### Load Fully Labeled Data"
   ]
  },
  {
   "cell_type": "code",
   "execution_count": 7,
   "id": "eb3b3fd8-1b94-455f-a2c1-a45e387da07c",
   "metadata": {},
   "outputs": [
    {
     "data": {
      "text/html": [
       "<div>\n",
       "<style scoped>\n",
       "    .dataframe tbody tr th:only-of-type {\n",
       "        vertical-align: middle;\n",
       "    }\n",
       "\n",
       "    .dataframe tbody tr th {\n",
       "        vertical-align: top;\n",
       "    }\n",
       "\n",
       "    .dataframe thead th {\n",
       "        text-align: right;\n",
       "    }\n",
       "</style>\n",
       "<table border=\"1\" class=\"dataframe\">\n",
       "  <thead>\n",
       "    <tr style=\"text-align: right;\">\n",
       "      <th></th>\n",
       "      <th>patient_id</th>\n",
       "      <th>notes</th>\n",
       "      <th>label</th>\n",
       "      <th>llm_label</th>\n",
       "      <th>llm_reasons</th>\n",
       "    </tr>\n",
       "  </thead>\n",
       "  <tbody>\n",
       "    <tr>\n",
       "      <th>0</th>\n",
       "      <td>1</td>\n",
       "      <td>Patient complains of leg pain and swelling. Ul...</td>\n",
       "      <td>1.0</td>\n",
       "      <td>1</td>\n",
       "      <td>Ultrasound confirms DVT</td>\n",
       "    </tr>\n",
       "    <tr>\n",
       "      <th>1</th>\n",
       "      <td>2</td>\n",
       "      <td>Patient experiences chest pain and shortness o...</td>\n",
       "      <td>1.0</td>\n",
       "      <td>1</td>\n",
       "      <td>CT scan confirms PE</td>\n",
       "    </tr>\n",
       "    <tr>\n",
       "      <th>2</th>\n",
       "      <td>3</td>\n",
       "      <td>Patient has a history of DVT. No current sympt...</td>\n",
       "      <td>0.0</td>\n",
       "      <td>0</td>\n",
       "      <td>No Symptoms found</td>\n",
       "    </tr>\n",
       "    <tr>\n",
       "      <th>3</th>\n",
       "      <td>4</td>\n",
       "      <td>No complaints or symptoms related to VTE or PE.</td>\n",
       "      <td>0.0</td>\n",
       "      <td>0</td>\n",
       "      <td>No evidence of VTE or PE</td>\n",
       "    </tr>\n",
       "    <tr>\n",
       "      <th>4</th>\n",
       "      <td>6</td>\n",
       "      <td>Leg swelling and pain present. Ultrasound conf...</td>\n",
       "      <td>1.0</td>\n",
       "      <td>1</td>\n",
       "      <td>Ultrasound confirms DVT</td>\n",
       "    </tr>\n",
       "  </tbody>\n",
       "</table>\n",
       "</div>"
      ],
      "text/plain": [
       "   patient_id  ...               llm_reasons\n",
       "0           1  ...   Ultrasound confirms DVT\n",
       "1           2  ...       CT scan confirms PE\n",
       "2           3  ...         No Symptoms found\n",
       "3           4  ...  No evidence of VTE or PE\n",
       "4           6  ...   Ultrasound confirms DVT\n",
       "\n",
       "[5 rows x 5 columns]"
      ]
     },
     "execution_count": 7,
     "metadata": {},
     "output_type": "execute_result"
    }
   ],
   "source": [
    "import pandas as pd\n",
    "\n",
    "# Define the file path\n",
    "file_path = \"/Users/porwals/Documents/GitHub/python_packages/llmtag/tests/benchmark_data/out.csv\"\n",
    "\n",
    "# Read the CSV file into a DataFrame\n",
    "df = pd.read_csv(file_path)\n",
    "\n",
    "# Display the first few rows of the DataFrame to verify the data has been loaded\n",
    "df.head()\n"
   ]
  },
  {
   "cell_type": "markdown",
   "id": "490477da-cb75-4fb8-b77c-6a62333620ac",
   "metadata": {},
   "source": [
    "#### Generate Confusion Matrix Based on True Values Vs. LLM-generated Labels"
   ]
  },
  {
   "cell_type": "code",
   "execution_count": 21,
   "id": "615111ea-2d31-44fe-9e05-af32a276e0d2",
   "metadata": {},
   "outputs": [
    {
     "name": "stdout",
     "output_type": "stream",
     "text": [
      "F1 Score: 0.9756\n",
      "Precision: 0.9524\n",
      "Recall: 1.0000\n",
      "Accuracy: 0.9792\n"
     ]
    },
    {
     "data": {
      "image/png": "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",
      "text/plain": [
       "<Figure size 1000x700 with 2 Axes>"
      ]
     },
     "metadata": {},
     "output_type": "display_data"
    }
   ],
   "source": [
    "import pandas as pd\n",
    "from sklearn.metrics import confusion_matrix\n",
    "import seaborn as sns\n",
    "import matplotlib.pyplot as plt\n",
    "\n",
    "from sklearn.metrics import f1_score, precision_score, recall_score, accuracy_score\n",
    "\n",
    "# Load the data from the local file\n",
    "file_path = \"/Users/porwals/Documents/GitHub/python_packages/llmtag/tests/benchmark_data/out.csv\"\n",
    "df = pd.read_csv(file_path)\n",
    "\n",
    "# Drop rows with NaN values in the 'label' or 'llm_label' columns\n",
    "df = df.dropna(subset=['label', 'llm_label'])\n",
    "\n",
    "# Extract the true labels and predicted labels\n",
    "true_labels = df['label'].values\n",
    "predicted_labels = df['llm_label'].values\n",
    "\n",
    "# Compute the confusion matrix\n",
    "matrix = confusion_matrix(true_labels, predicted_labels)\n",
    "\n",
    "# Compute metrics\n",
    "f1 = f1_score(true_labels, predicted_labels)\n",
    "precision = precision_score(true_labels, predicted_labels)\n",
    "recall = recall_score(true_labels, predicted_labels)\n",
    "accuracy = accuracy_score(true_labels, predicted_labels)\n",
    "\n",
    "# Display metrics\n",
    "print(f\"F1 Score: {f1:.4f}\")\n",
    "print(f\"Precision: {precision:.4f}\")\n",
    "print(f\"Recall: {recall:.4f}\")\n",
    "print(f\"Accuracy: {accuracy:.4f}\")\n",
    "\n",
    "# Plotting the confusion matrix using Seaborn\n",
    "plt.figure(figsize=(10,7))\n",
    "sns.heatmap(matrix, annot=True, fmt='d', cmap='Blues')\n",
    "plt.xlabel('Predicted Label')\n",
    "plt.ylabel('True Label')\n",
    "plt.title('Confusion Matrix')\n",
    "plt.show()\n"
   ]
  }
 ],
 "metadata": {
  "kernelspec": {
   "display_name": "Python 3 (ipykernel)",
   "language": "python",
   "name": "python3"
  },
  "language_info": {
   "codemirror_mode": {
    "name": "ipython",
    "version": 3
   },
   "file_extension": ".py",
   "mimetype": "text/x-python",
   "name": "python",
   "nbconvert_exporter": "python",
   "pygments_lexer": "ipython3",
   "version": "3.11.1"
  }
 },
 "nbformat": 4,
 "nbformat_minor": 5
}
